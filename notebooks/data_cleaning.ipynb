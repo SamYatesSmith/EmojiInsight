{
 "cells": [
  {
   "cell_type": "markdown",
   "metadata": {},
   "source": [
    "# Data Cleaning Notebook\n",
    "\n",
    "## EmojiInsight Project\n",
    "\n",
    "This notebook is dedicated to the data cleaning and preprocessing steps for the **EmojiInsight** project. We will parse and process the raw data files, particularly focusing on the `emoji-test.txt` file from Unicode, to prepare the data for analysis and modeling.\n",
    "\n",
    "---"
   ]
  },
  {
   "cell_type": "markdown",
   "metadata": {},
   "source": [
    "### 1. Importing Necessary Libraries\n",
    "\n",
    "First, we import the essential libraries required for data processing and manipulation. We also adjust the Python path to include our project's root directory so we can import custom modules from the `src` directory."
   ]
  },
  {
   "cell_type": "code",
   "execution_count": 4,
   "metadata": {},
   "outputs": [],
   "source": [
    "import sys\n",
    "import os\n",
    "import pandas as pd"
   ]
  },
  {
   "cell_type": "markdown",
   "metadata": {},
   "source": [
    "### 2. Adjusting `sys.path`\n",
    "\n",
    "Since our notebook is located in the `notebooks/` directory and our custom modules are in the `src/` directory, we need to add the parent directory of our project to `sys.path`. This allows us to import modules from `src` without issues."
   ]
  },
  {
   "cell_type": "code",
   "execution_count": 5,
   "metadata": {},
   "outputs": [],
   "source": [
    "# Get the absolute path of the parent directory (EmojiInsight)\n",
    "parent_dir = os.path.abspath('..')\n",
    "\n",
    "# Add the parent directory to sys.path if it's not already there\n",
    "if parent_dir not in sys.path:\n",
    "    sys.path.insert(0, parent_dir)"
   ]
  },
  {
   "cell_type": "markdown",
   "metadata": {},
   "source": [
    "### 3. Importing the `data_processing` Module\n",
    "\n",
    "Now we can import our custom data processing module, which contains functions for loading and parsing data."
   ]
  },
  {
   "cell_type": "code",
   "execution_count": 6,
   "metadata": {},
   "outputs": [],
   "source": [
    "import src.data_processing as dp"
   ]
  },
  {
   "cell_type": "markdown",
   "metadata": {},
   "source": [
    "### 4. Parsing the `emoji-test.txt` File\n",
    "\n",
    "We will use the `parse_emoji_test` function from our `data_processing` module to parse the `emoji-test.txt` file. This file contains comprehensive information about all standardized emojis."
   ]
  },
  {
   "cell_type": "code",
   "execution_count": 7,
   "metadata": {},
   "outputs": [],
   "source": [
    "# Define the file path to emoji-test.txt\n",
    "file_path = os.path.join(parent_dir, 'data', 'raw', 'emoji_data', 'emoji-test.txt')\n",
    "\n",
    "# Parse the emoji-test.txt file\n",
    "emoji_df = dp.parse_emoji_test(file_path)"
   ]
  },
  {
   "cell_type": "markdown",
   "metadata": {},
   "source": [
    "### 5. Saving the Parsed Data\n",
    "\n",
    "After parsing, we'll save the resulting DataFrame to the `data/processed/` directory for future use in our analysis and modeling."
   ]
  },
  {
   "cell_type": "code",
   "execution_count": 8,
   "metadata": {},
   "outputs": [],
   "source": [
    "# Define the output path for the processed data\n",
    "output_path = os.path.join(parent_dir, 'data', 'processed', 'emoji_list.csv')\n",
    "\n",
    "# Ensure the processed data directory exists\n",
    "processed_data_dir = os.path.dirname(output_path)\n",
    "os.makedirs(processed_data_dir, exist_ok=True)\n",
    "\n",
    "# Save the DataFrame to the processed data directory\n",
    "emoji_df.to_csv(output_path, index=False)\n"
   ]
  },
  {
   "cell_type": "markdown",
   "metadata": {},
   "source": [
    "### 6. Viewing the Parsed Data\n",
    "\n",
    "Let's take a look at the first few rows of the parsed data to verify that everything was processed correctly."
   ]
  },
  {
   "cell_type": "code",
   "execution_count": null,
   "metadata": {},
   "outputs": [],
   "source": [
    "emoji_df.head()"
   ]
  },
  {
   "cell_type": "markdown",
   "metadata": {},
   "source": [
    "### 7. Summary of Parsed Data\n",
    "\n",
    "We can also get a summary of the DataFrame to understand the structure and content of the parsed data."
   ]
  },
  {
   "cell_type": "code",
   "execution_count": null,
   "metadata": {},
   "outputs": [],
   "source": [
    "emoji_df.info()"
   ]
  },
  {
   "cell_type": "markdown",
   "metadata": {},
   "source": [
    "### 8. Next Steps\n",
    "\n",
    "Now that we've successfully parsed and saved the Unicode emoji data, the next steps include:\n",
    "\n",
    "- **Cleaning and preprocessing** the `emoji_sentiment_data_v1.0.csv` file.\n",
    "- **Merging** the parsed emoji data with the sentiment data.\n",
    "- **Exploring** the combined data to gain insights and prepare it for modeling.\n",
    "\n",
    "---"
   ]
  },
  {
   "cell_type": "markdown",
   "metadata": {},
   "source": [
    "## 9. Cleaning and Preprocessing the `emoji_sentiment_data_v1.0.csv` File\n",
    "\n",
    "In this section, we'll load the Emoji Sentiment Data, perform necessary cleaning, and prepare it for merging with the parsed Unicode emoji data.\n",
    "\n",
    "---"
   ]
  },
  {
   "cell_type": "markdown",
   "metadata": {},
   "source": [
    "### 10.1. Loading the Dataset\n",
    "\n",
    "We will load the `emoji_sentiment_data_v1.0.csv` file into a pandas DataFrame for analysis."
   ]
  },
  {
   "cell_type": "code",
   "execution_count": 12,
   "metadata": {},
   "outputs": [
    {
     "data": {
      "text/html": [
       "<div>\n",
       "<style scoped>\n",
       "    .dataframe tbody tr th:only-of-type {\n",
       "        vertical-align: middle;\n",
       "    }\n",
       "\n",
       "    .dataframe tbody tr th {\n",
       "        vertical-align: top;\n",
       "    }\n",
       "\n",
       "    .dataframe thead th {\n",
       "        text-align: right;\n",
       "    }\n",
       "</style>\n",
       "<table border=\"1\" class=\"dataframe\">\n",
       "  <thead>\n",
       "    <tr style=\"text-align: right;\">\n",
       "      <th></th>\n",
       "      <th>Emoji</th>\n",
       "      <th>Unicode codepoint</th>\n",
       "      <th>Occurrences</th>\n",
       "      <th>Position</th>\n",
       "      <th>Negative</th>\n",
       "      <th>Neutral</th>\n",
       "      <th>Positive</th>\n",
       "      <th>Unicode name</th>\n",
       "      <th>Unicode block</th>\n",
       "    </tr>\n",
       "  </thead>\n",
       "  <tbody>\n",
       "    <tr>\n",
       "      <th>0</th>\n",
       "      <td>😂</td>\n",
       "      <td>0x1f602</td>\n",
       "      <td>14622</td>\n",
       "      <td>0.805101</td>\n",
       "      <td>3614</td>\n",
       "      <td>4163</td>\n",
       "      <td>6845</td>\n",
       "      <td>FACE WITH TEARS OF JOY</td>\n",
       "      <td>Emoticons</td>\n",
       "    </tr>\n",
       "    <tr>\n",
       "      <th>1</th>\n",
       "      <td>❤</td>\n",
       "      <td>0x2764</td>\n",
       "      <td>8050</td>\n",
       "      <td>0.746943</td>\n",
       "      <td>355</td>\n",
       "      <td>1334</td>\n",
       "      <td>6361</td>\n",
       "      <td>HEAVY BLACK HEART</td>\n",
       "      <td>Dingbats</td>\n",
       "    </tr>\n",
       "    <tr>\n",
       "      <th>2</th>\n",
       "      <td>♥</td>\n",
       "      <td>0x2665</td>\n",
       "      <td>7144</td>\n",
       "      <td>0.753806</td>\n",
       "      <td>252</td>\n",
       "      <td>1942</td>\n",
       "      <td>4950</td>\n",
       "      <td>BLACK HEART SUIT</td>\n",
       "      <td>Miscellaneous Symbols</td>\n",
       "    </tr>\n",
       "    <tr>\n",
       "      <th>3</th>\n",
       "      <td>😍</td>\n",
       "      <td>0x1f60d</td>\n",
       "      <td>6359</td>\n",
       "      <td>0.765292</td>\n",
       "      <td>329</td>\n",
       "      <td>1390</td>\n",
       "      <td>4640</td>\n",
       "      <td>SMILING FACE WITH HEART-SHAPED EYES</td>\n",
       "      <td>Emoticons</td>\n",
       "    </tr>\n",
       "    <tr>\n",
       "      <th>4</th>\n",
       "      <td>😭</td>\n",
       "      <td>0x1f62d</td>\n",
       "      <td>5526</td>\n",
       "      <td>0.803352</td>\n",
       "      <td>2412</td>\n",
       "      <td>1218</td>\n",
       "      <td>1896</td>\n",
       "      <td>LOUDLY CRYING FACE</td>\n",
       "      <td>Emoticons</td>\n",
       "    </tr>\n",
       "  </tbody>\n",
       "</table>\n",
       "</div>"
      ],
      "text/plain": [
       "  Emoji Unicode codepoint  Occurrences  Position  Negative  Neutral  Positive  \\\n",
       "0     😂           0x1f602        14622  0.805101      3614     4163      6845   \n",
       "1     ❤            0x2764         8050  0.746943       355     1334      6361   \n",
       "2     ♥            0x2665         7144  0.753806       252     1942      4950   \n",
       "3     😍           0x1f60d         6359  0.765292       329     1390      4640   \n",
       "4     😭           0x1f62d         5526  0.803352      2412     1218      1896   \n",
       "\n",
       "                          Unicode name          Unicode block  \n",
       "0               FACE WITH TEARS OF JOY              Emoticons  \n",
       "1                    HEAVY BLACK HEART               Dingbats  \n",
       "2                     BLACK HEART SUIT  Miscellaneous Symbols  \n",
       "3  SMILING FACE WITH HEART-SHAPED EYES              Emoticons  \n",
       "4                   LOUDLY CRYING FACE              Emoticons  "
      ]
     },
     "execution_count": 12,
     "metadata": {},
     "output_type": "execute_result"
    }
   ],
   "source": [
    "# Define the file path to the dataset\n",
    "sentiment_file_path = os.path.join(parent_dir, 'data', 'raw', 'emoji_data', 'Emoji_Sentiment_Data_v1.0.csv')\n",
    "\n",
    "# Load the dataset\n",
    "sentiment_df = pd.read_csv(sentiment_file_path)\n",
    "\n",
    "# Display the first few rows\n",
    "sentiment_df.head()"
   ]
  },
  {
   "cell_type": "markdown",
   "metadata": {},
   "source": [
    "### 10.2. Exploring the Dataset\n",
    "\n",
    "Let's explore the dataset to understand its structure, data types, and identify any potential issues."
   ]
  },
  {
   "cell_type": "code",
   "execution_count": 13,
   "metadata": {},
   "outputs": [
    {
     "name": "stdout",
     "output_type": "stream",
     "text": [
      "<class 'pandas.core.frame.DataFrame'>\n",
      "RangeIndex: 969 entries, 0 to 968\n",
      "Data columns (total 9 columns):\n",
      " #   Column             Non-Null Count  Dtype  \n",
      "---  ------             --------------  -----  \n",
      " 0   Emoji              969 non-null    object \n",
      " 1   Unicode codepoint  969 non-null    object \n",
      " 2   Occurrences        969 non-null    int64  \n",
      " 3   Position           969 non-null    float64\n",
      " 4   Negative           969 non-null    int64  \n",
      " 5   Neutral            969 non-null    int64  \n",
      " 6   Positive           969 non-null    int64  \n",
      " 7   Unicode name       969 non-null    object \n",
      " 8   Unicode block      969 non-null    object \n",
      "dtypes: float64(1), int64(4), object(4)\n",
      "memory usage: 68.3+ KB\n"
     ]
    },
    {
     "data": {
      "text/html": [
       "<div>\n",
       "<style scoped>\n",
       "    .dataframe tbody tr th:only-of-type {\n",
       "        vertical-align: middle;\n",
       "    }\n",
       "\n",
       "    .dataframe tbody tr th {\n",
       "        vertical-align: top;\n",
       "    }\n",
       "\n",
       "    .dataframe thead th {\n",
       "        text-align: right;\n",
       "    }\n",
       "</style>\n",
       "<table border=\"1\" class=\"dataframe\">\n",
       "  <thead>\n",
       "    <tr style=\"text-align: right;\">\n",
       "      <th></th>\n",
       "      <th>Emoji</th>\n",
       "      <th>Unicode codepoint</th>\n",
       "      <th>Occurrences</th>\n",
       "      <th>Position</th>\n",
       "      <th>Negative</th>\n",
       "      <th>Neutral</th>\n",
       "      <th>Positive</th>\n",
       "      <th>Unicode name</th>\n",
       "      <th>Unicode block</th>\n",
       "    </tr>\n",
       "  </thead>\n",
       "  <tbody>\n",
       "    <tr>\n",
       "      <th>count</th>\n",
       "      <td>969</td>\n",
       "      <td>969</td>\n",
       "      <td>969.000000</td>\n",
       "      <td>969.000000</td>\n",
       "      <td>969.000000</td>\n",
       "      <td>969.000000</td>\n",
       "      <td>969.000000</td>\n",
       "      <td>969</td>\n",
       "      <td>969</td>\n",
       "    </tr>\n",
       "    <tr>\n",
       "      <th>unique</th>\n",
       "      <td>969</td>\n",
       "      <td>969</td>\n",
       "      <td>NaN</td>\n",
       "      <td>NaN</td>\n",
       "      <td>NaN</td>\n",
       "      <td>NaN</td>\n",
       "      <td>NaN</td>\n",
       "      <td>969</td>\n",
       "      <td>26</td>\n",
       "    </tr>\n",
       "    <tr>\n",
       "      <th>top</th>\n",
       "      <td>📔</td>\n",
       "      <td>0x1f4d4</td>\n",
       "      <td>NaN</td>\n",
       "      <td>NaN</td>\n",
       "      <td>NaN</td>\n",
       "      <td>NaN</td>\n",
       "      <td>NaN</td>\n",
       "      <td>NOTEBOOK WITH DECORATIVE COVER</td>\n",
       "      <td>Miscellaneous Symbols and Pictographs</td>\n",
       "    </tr>\n",
       "    <tr>\n",
       "      <th>freq</th>\n",
       "      <td>1</td>\n",
       "      <td>1</td>\n",
       "      <td>NaN</td>\n",
       "      <td>NaN</td>\n",
       "      <td>NaN</td>\n",
       "      <td>NaN</td>\n",
       "      <td>NaN</td>\n",
       "      <td>1</td>\n",
       "      <td>484</td>\n",
       "    </tr>\n",
       "    <tr>\n",
       "      <th>mean</th>\n",
       "      <td>NaN</td>\n",
       "      <td>NaN</td>\n",
       "      <td>161.961816</td>\n",
       "      <td>0.654980</td>\n",
       "      <td>24.873065</td>\n",
       "      <td>48.942208</td>\n",
       "      <td>88.146543</td>\n",
       "      <td>NaN</td>\n",
       "      <td>NaN</td>\n",
       "    </tr>\n",
       "    <tr>\n",
       "      <th>std</th>\n",
       "      <td>NaN</td>\n",
       "      <td>NaN</td>\n",
       "      <td>713.675266</td>\n",
       "      <td>0.195021</td>\n",
       "      <td>153.120845</td>\n",
       "      <td>189.329228</td>\n",
       "      <td>424.849727</td>\n",
       "      <td>NaN</td>\n",
       "      <td>NaN</td>\n",
       "    </tr>\n",
       "    <tr>\n",
       "      <th>min</th>\n",
       "      <td>NaN</td>\n",
       "      <td>NaN</td>\n",
       "      <td>1.000000</td>\n",
       "      <td>0.009615</td>\n",
       "      <td>0.000000</td>\n",
       "      <td>0.000000</td>\n",
       "      <td>0.000000</td>\n",
       "      <td>NaN</td>\n",
       "      <td>NaN</td>\n",
       "    </tr>\n",
       "    <tr>\n",
       "      <th>25%</th>\n",
       "      <td>NaN</td>\n",
       "      <td>NaN</td>\n",
       "      <td>5.000000</td>\n",
       "      <td>0.557252</td>\n",
       "      <td>0.000000</td>\n",
       "      <td>2.000000</td>\n",
       "      <td>2.000000</td>\n",
       "      <td>NaN</td>\n",
       "      <td>NaN</td>\n",
       "    </tr>\n",
       "    <tr>\n",
       "      <th>50%</th>\n",
       "      <td>NaN</td>\n",
       "      <td>NaN</td>\n",
       "      <td>18.000000</td>\n",
       "      <td>0.680000</td>\n",
       "      <td>2.000000</td>\n",
       "      <td>7.000000</td>\n",
       "      <td>7.000000</td>\n",
       "      <td>NaN</td>\n",
       "      <td>NaN</td>\n",
       "    </tr>\n",
       "    <tr>\n",
       "      <th>75%</th>\n",
       "      <td>NaN</td>\n",
       "      <td>NaN</td>\n",
       "      <td>77.000000</td>\n",
       "      <td>0.793676</td>\n",
       "      <td>8.000000</td>\n",
       "      <td>28.000000</td>\n",
       "      <td>36.000000</td>\n",
       "      <td>NaN</td>\n",
       "      <td>NaN</td>\n",
       "    </tr>\n",
       "    <tr>\n",
       "      <th>max</th>\n",
       "      <td>NaN</td>\n",
       "      <td>NaN</td>\n",
       "      <td>14622.000000</td>\n",
       "      <td>1.000000</td>\n",
       "      <td>3614.000000</td>\n",
       "      <td>4163.000000</td>\n",
       "      <td>6845.000000</td>\n",
       "      <td>NaN</td>\n",
       "      <td>NaN</td>\n",
       "    </tr>\n",
       "  </tbody>\n",
       "</table>\n",
       "</div>"
      ],
      "text/plain": [
       "       Emoji Unicode codepoint   Occurrences    Position     Negative  \\\n",
       "count    969               969    969.000000  969.000000   969.000000   \n",
       "unique   969               969           NaN         NaN          NaN   \n",
       "top        📔           0x1f4d4           NaN         NaN          NaN   \n",
       "freq       1                 1           NaN         NaN          NaN   \n",
       "mean     NaN               NaN    161.961816    0.654980    24.873065   \n",
       "std      NaN               NaN    713.675266    0.195021   153.120845   \n",
       "min      NaN               NaN      1.000000    0.009615     0.000000   \n",
       "25%      NaN               NaN      5.000000    0.557252     0.000000   \n",
       "50%      NaN               NaN     18.000000    0.680000     2.000000   \n",
       "75%      NaN               NaN     77.000000    0.793676     8.000000   \n",
       "max      NaN               NaN  14622.000000    1.000000  3614.000000   \n",
       "\n",
       "            Neutral     Positive                    Unicode name  \\\n",
       "count    969.000000   969.000000                             969   \n",
       "unique          NaN          NaN                             969   \n",
       "top             NaN          NaN  NOTEBOOK WITH DECORATIVE COVER   \n",
       "freq            NaN          NaN                               1   \n",
       "mean      48.942208    88.146543                             NaN   \n",
       "std      189.329228   424.849727                             NaN   \n",
       "min        0.000000     0.000000                             NaN   \n",
       "25%        2.000000     2.000000                             NaN   \n",
       "50%        7.000000     7.000000                             NaN   \n",
       "75%       28.000000    36.000000                             NaN   \n",
       "max     4163.000000  6845.000000                             NaN   \n",
       "\n",
       "                                Unicode block  \n",
       "count                                     969  \n",
       "unique                                     26  \n",
       "top     Miscellaneous Symbols and Pictographs  \n",
       "freq                                      484  \n",
       "mean                                      NaN  \n",
       "std                                       NaN  \n",
       "min                                       NaN  \n",
       "25%                                       NaN  \n",
       "50%                                       NaN  \n",
       "75%                                       NaN  \n",
       "max                                       NaN  "
      ]
     },
     "execution_count": 13,
     "metadata": {},
     "output_type": "execute_result"
    }
   ],
   "source": [
    "# Get basic information about the DataFrame\n",
    "sentiment_df.info()\n",
    "# Check for missing values\n",
    "sentiment_df.isnull().sum()\n",
    "# Get summary statistics\n",
    "sentiment_df.describe(include='all')"
   ]
  },
  {
   "cell_type": "markdown",
   "metadata": {},
   "source": [
    "### 10.3. Data Cleaning\n",
    "\n",
    "Based on the exploration, we'll perform the following cleaning steps:\n",
    "\n",
    "- **Rename Columns:** Standardize column names for consistency.\n",
    "- **Handle Missing Values:** Address any missing data if present.\n",
    "- **Correct Data Types:** Ensure columns have appropriate data types.\n",
    "- **Standardize Unicode Codepoints:** Prepare codepoints for merging with the Unicode emoji data."
   ]
  },
  {
   "cell_type": "code",
   "execution_count": 14,
   "metadata": {},
   "outputs": [],
   "source": [
    "# Rename columns for consistency\n",
    "sentiment_df.rename(columns={\n",
    "    'Emoji': 'emoji',\n",
    "    'Unicode codepoint': 'codepoint',\n",
    "    'Occurrences': 'occurrences',\n",
    "    'Position': 'position',\n",
    "    'Negative': 'negative',\n",
    "    'Neutral': 'neutral',\n",
    "    'Positive': 'positive',\n",
    "    'Unicode name': 'name',\n",
    "    'Unicode block': 'block'\n",
    "}, inplace=True)"
   ]
  },
  {
   "cell_type": "code",
   "execution_count": 15,
   "metadata": {},
   "outputs": [
    {
     "data": {
      "text/plain": [
       "emoji          0\n",
       "codepoint      0\n",
       "occurrences    0\n",
       "position       0\n",
       "negative       0\n",
       "neutral        0\n",
       "positive       0\n",
       "name           0\n",
       "block          0\n",
       "dtype: int64"
      ]
     },
     "execution_count": 15,
     "metadata": {},
     "output_type": "execute_result"
    }
   ],
   "source": [
    "# Check for missing values again\n",
    "sentiment_df.isnull().sum()\n",
    "# Drop rows with missing values (if appropriate)\n",
    "# sentiment_df.dropna(inplace=True)\n",
    "\n",
    "# Alternatively, fill missing values\n",
    "# sentiment_df.fillna(method='ffill', inplace=True)"
   ]
  },
  {
   "cell_type": "code",
   "execution_count": 16,
   "metadata": {},
   "outputs": [
    {
     "data": {
      "text/plain": [
       "emoji           object\n",
       "codepoint       object\n",
       "occurrences      int64\n",
       "position       float64\n",
       "negative         int64\n",
       "neutral          int64\n",
       "positive         int64\n",
       "name            object\n",
       "block           object\n",
       "dtype: object"
      ]
     },
     "execution_count": 16,
     "metadata": {},
     "output_type": "execute_result"
    }
   ],
   "source": [
    "# Ensure numeric columns are of numeric data types\n",
    "numeric_columns = ['occurrences', 'position', 'negative', 'neutral', 'positive']\n",
    "sentiment_df[numeric_columns] = sentiment_df[numeric_columns].apply(pd.to_numeric, errors='coerce')\n",
    "\n",
    "# Verify data types\n",
    "sentiment_df.dtypes"
   ]
  },
  {
   "cell_type": "code",
   "execution_count": 17,
   "metadata": {},
   "outputs": [],
   "source": [
    "# Remove '0x' prefix and convert codepoints to uppercase\n",
    "sentiment_df['codepoint_std'] = sentiment_df['codepoint'].str.replace('0x', '').str.upper()"
   ]
  },
  {
   "cell_type": "markdown",
   "metadata": {},
   "source": [
    "### 10.4. Saving the Cleaned Data\n",
    "\n",
    "After cleaning, we'll save the cleaned DataFrame to the `data/processed/` directory for future use."
   ]
  },
  {
   "cell_type": "code",
   "execution_count": 18,
   "metadata": {},
   "outputs": [],
   "source": [
    "# Define the output path for the cleaned data\n",
    "cleaned_sentiment_path = os.path.join(parent_dir, 'data', 'processed', 'emoji_sentiment_data_cleaned.csv')\n",
    "\n",
    "# Save the cleaned DataFrame\n",
    "sentiment_df.to_csv(cleaned_sentiment_path, index=False)"
   ]
  },
  {
   "cell_type": "markdown",
   "metadata": {},
   "source": [
    "### 10.5. Merging with the Parsed Unicode Emoji Data\n",
    "\n",
    "To enrich our dataset, we'll merge the cleaned sentiment data with the parsed Unicode emoji data on the standardized codepoints."
   ]
  },
  {
   "cell_type": "code",
   "execution_count": 19,
   "metadata": {},
   "outputs": [
    {
     "data": {
      "text/html": [
       "<div>\n",
       "<style scoped>\n",
       "    .dataframe tbody tr th:only-of-type {\n",
       "        vertical-align: middle;\n",
       "    }\n",
       "\n",
       "    .dataframe tbody tr th {\n",
       "        vertical-align: top;\n",
       "    }\n",
       "\n",
       "    .dataframe thead th {\n",
       "        text-align: right;\n",
       "    }\n",
       "</style>\n",
       "<table border=\"1\" class=\"dataframe\">\n",
       "  <thead>\n",
       "    <tr style=\"text-align: right;\">\n",
       "      <th></th>\n",
       "      <th>emoji_x</th>\n",
       "      <th>codepoint</th>\n",
       "      <th>occurrences</th>\n",
       "      <th>position</th>\n",
       "      <th>negative</th>\n",
       "      <th>neutral</th>\n",
       "      <th>positive</th>\n",
       "      <th>name_x</th>\n",
       "      <th>block</th>\n",
       "      <th>codepoint_std</th>\n",
       "      <th>group</th>\n",
       "      <th>subgroup</th>\n",
       "      <th>codepoints</th>\n",
       "      <th>status</th>\n",
       "      <th>emoji_y</th>\n",
       "      <th>name_y</th>\n",
       "    </tr>\n",
       "  </thead>\n",
       "  <tbody>\n",
       "    <tr>\n",
       "      <th>0</th>\n",
       "      <td>😂</td>\n",
       "      <td>0x1f602</td>\n",
       "      <td>14622</td>\n",
       "      <td>0.805101</td>\n",
       "      <td>3614</td>\n",
       "      <td>4163</td>\n",
       "      <td>6845</td>\n",
       "      <td>FACE WITH TEARS OF JOY</td>\n",
       "      <td>Emoticons</td>\n",
       "      <td>1F602</td>\n",
       "      <td>Smileys &amp; Emotion</td>\n",
       "      <td>face-smiling</td>\n",
       "      <td>1F602</td>\n",
       "      <td>fully-qualified</td>\n",
       "      <td>😂</td>\n",
       "      <td>E0.6 face with tears of joy</td>\n",
       "    </tr>\n",
       "    <tr>\n",
       "      <th>1</th>\n",
       "      <td>❤</td>\n",
       "      <td>0x2764</td>\n",
       "      <td>8050</td>\n",
       "      <td>0.746943</td>\n",
       "      <td>355</td>\n",
       "      <td>1334</td>\n",
       "      <td>6361</td>\n",
       "      <td>HEAVY BLACK HEART</td>\n",
       "      <td>Dingbats</td>\n",
       "      <td>2764</td>\n",
       "      <td>Smileys &amp; Emotion</td>\n",
       "      <td>heart</td>\n",
       "      <td>2764</td>\n",
       "      <td>unqualified</td>\n",
       "      <td>❤</td>\n",
       "      <td>E0.6 red heart</td>\n",
       "    </tr>\n",
       "    <tr>\n",
       "      <th>2</th>\n",
       "      <td>♥</td>\n",
       "      <td>0x2665</td>\n",
       "      <td>7144</td>\n",
       "      <td>0.753806</td>\n",
       "      <td>252</td>\n",
       "      <td>1942</td>\n",
       "      <td>4950</td>\n",
       "      <td>BLACK HEART SUIT</td>\n",
       "      <td>Miscellaneous Symbols</td>\n",
       "      <td>2665</td>\n",
       "      <td>Activities</td>\n",
       "      <td>game</td>\n",
       "      <td>2665</td>\n",
       "      <td>unqualified</td>\n",
       "      <td>♥</td>\n",
       "      <td>E0.6 heart suit</td>\n",
       "    </tr>\n",
       "    <tr>\n",
       "      <th>3</th>\n",
       "      <td>😍</td>\n",
       "      <td>0x1f60d</td>\n",
       "      <td>6359</td>\n",
       "      <td>0.765292</td>\n",
       "      <td>329</td>\n",
       "      <td>1390</td>\n",
       "      <td>4640</td>\n",
       "      <td>SMILING FACE WITH HEART-SHAPED EYES</td>\n",
       "      <td>Emoticons</td>\n",
       "      <td>1F60D</td>\n",
       "      <td>Smileys &amp; Emotion</td>\n",
       "      <td>face-affection</td>\n",
       "      <td>1F60D</td>\n",
       "      <td>fully-qualified</td>\n",
       "      <td>😍</td>\n",
       "      <td>E0.6 smiling face with heart-eyes</td>\n",
       "    </tr>\n",
       "    <tr>\n",
       "      <th>4</th>\n",
       "      <td>😭</td>\n",
       "      <td>0x1f62d</td>\n",
       "      <td>5526</td>\n",
       "      <td>0.803352</td>\n",
       "      <td>2412</td>\n",
       "      <td>1218</td>\n",
       "      <td>1896</td>\n",
       "      <td>LOUDLY CRYING FACE</td>\n",
       "      <td>Emoticons</td>\n",
       "      <td>1F62D</td>\n",
       "      <td>Smileys &amp; Emotion</td>\n",
       "      <td>face-concerned</td>\n",
       "      <td>1F62D</td>\n",
       "      <td>fully-qualified</td>\n",
       "      <td>😭</td>\n",
       "      <td>E0.6 loudly crying face</td>\n",
       "    </tr>\n",
       "  </tbody>\n",
       "</table>\n",
       "</div>"
      ],
      "text/plain": [
       "  emoji_x codepoint  occurrences  position  negative  neutral  positive  \\\n",
       "0       😂   0x1f602        14622  0.805101      3614     4163      6845   \n",
       "1       ❤    0x2764         8050  0.746943       355     1334      6361   \n",
       "2       ♥    0x2665         7144  0.753806       252     1942      4950   \n",
       "3       😍   0x1f60d         6359  0.765292       329     1390      4640   \n",
       "4       😭   0x1f62d         5526  0.803352      2412     1218      1896   \n",
       "\n",
       "                                name_x                  block codepoint_std  \\\n",
       "0               FACE WITH TEARS OF JOY              Emoticons         1F602   \n",
       "1                    HEAVY BLACK HEART               Dingbats          2764   \n",
       "2                     BLACK HEART SUIT  Miscellaneous Symbols          2665   \n",
       "3  SMILING FACE WITH HEART-SHAPED EYES              Emoticons         1F60D   \n",
       "4                   LOUDLY CRYING FACE              Emoticons         1F62D   \n",
       "\n",
       "               group        subgroup codepoints           status emoji_y  \\\n",
       "0  Smileys & Emotion    face-smiling      1F602  fully-qualified       😂   \n",
       "1  Smileys & Emotion           heart       2764      unqualified       ❤   \n",
       "2         Activities            game       2665      unqualified       ♥   \n",
       "3  Smileys & Emotion  face-affection      1F60D  fully-qualified       😍   \n",
       "4  Smileys & Emotion  face-concerned      1F62D  fully-qualified       😭   \n",
       "\n",
       "                              name_y  \n",
       "0        E0.6 face with tears of joy  \n",
       "1                     E0.6 red heart  \n",
       "2                    E0.6 heart suit  \n",
       "3  E0.6 smiling face with heart-eyes  \n",
       "4            E0.6 loudly crying face  "
      ]
     },
     "execution_count": 19,
     "metadata": {},
     "output_type": "execute_result"
    }
   ],
   "source": [
    "# Ensure the parsed emoji data is loaded\n",
    "# If not already loaded, load it from the processed data\n",
    "emoji_list_path = os.path.join(parent_dir, 'data', 'processed', 'emoji_list.csv')\n",
    "emoji_df = pd.read_csv(emoji_list_path)\n",
    "\n",
    "# Standardize codepoints in the emoji data\n",
    "emoji_df['codepoint_std'] = emoji_df['codepoints'].str.replace(' ', '-').str.upper()\n",
    "\n",
    "# Merge the DataFrames on 'codepoint_std'\n",
    "merged_df = pd.merge(sentiment_df, emoji_df, on='codepoint_std', how='inner')\n",
    "\n",
    "# Display the merged DataFrame\n",
    "merged_df.head()"
   ]
  },
  {
   "cell_type": "markdown",
   "metadata": {},
   "source": [
    "### 10.6. Saving the Merged Data\n",
    "\n",
    "We will save the merged DataFrame for future analysis and modeling."
   ]
  },
  {
   "cell_type": "code",
   "execution_count": 20,
   "metadata": {},
   "outputs": [],
   "source": [
    "# Define the output path for the merged data\n",
    "merged_data_path = os.path.join(parent_dir, 'data', 'processed', 'emoji_data_merged.csv')\n",
    "\n",
    "# Save the merged DataFrame\n",
    "merged_df.to_csv(merged_data_path, index=False)"
   ]
  },
  {
   "cell_type": "markdown",
   "metadata": {},
   "source": [
    "### 10.7. Verifying the Merged Data\n",
    "\n",
    "Let's check the structure of the merged data to ensure that the merge was successful."
   ]
  },
  {
   "cell_type": "code",
   "execution_count": 22,
   "metadata": {},
   "outputs": [
    {
     "name": "stdout",
     "output_type": "stream",
     "text": [
      "<class 'pandas.core.frame.DataFrame'>\n",
      "RangeIndex: 734 entries, 0 to 733\n",
      "Data columns (total 16 columns):\n",
      " #   Column         Non-Null Count  Dtype  \n",
      "---  ------         --------------  -----  \n",
      " 0   emoji_x        734 non-null    object \n",
      " 1   codepoint      734 non-null    object \n",
      " 2   occurrences    734 non-null    int64  \n",
      " 3   position       734 non-null    float64\n",
      " 4   negative       734 non-null    int64  \n",
      " 5   neutral        734 non-null    int64  \n",
      " 6   positive       734 non-null    int64  \n",
      " 7   name_x         734 non-null    object \n",
      " 8   block          734 non-null    object \n",
      " 9   codepoint_std  734 non-null    object \n",
      " 10  group          734 non-null    object \n",
      " 11  subgroup       734 non-null    object \n",
      " 12  codepoints     734 non-null    object \n",
      " 13  status         734 non-null    object \n",
      " 14  emoji_y        734 non-null    object \n",
      " 15  name_y         734 non-null    object \n",
      "dtypes: float64(1), int64(4), object(11)\n",
      "memory usage: 91.9+ KB\n"
     ]
    }
   ],
   "source": [
    "# Get info about the merged DataFrame\n",
    "merged_df.info()"
   ]
  },
  {
   "cell_type": "code",
   "execution_count": 21,
   "metadata": {},
   "outputs": [
    {
     "data": {
      "text/plain": [
       "emoji_x          0\n",
       "codepoint        0\n",
       "occurrences      0\n",
       "position         0\n",
       "negative         0\n",
       "neutral          0\n",
       "positive         0\n",
       "name_x           0\n",
       "block            0\n",
       "codepoint_std    0\n",
       "group            0\n",
       "subgroup         0\n",
       "codepoints       0\n",
       "status           0\n",
       "emoji_y          0\n",
       "name_y           0\n",
       "dtype: int64"
      ]
     },
     "execution_count": 21,
     "metadata": {},
     "output_type": "execute_result"
    }
   ],
   "source": [
    "# Check for any missing values\n",
    "merged_df.isnull().sum()"
   ]
  },
  {
   "cell_type": "markdown",
   "metadata": {},
   "source": [
    "### 10.8. Next Steps\n",
    "\n",
    "With the sentiment data cleaned and merged with the Unicode emoji data, we're now ready to proceed with:\n",
    "\n",
    "- **Exploratory Data Analysis (EDA):** Uncover patterns and insights in the data.\n",
    "- **Feature Engineering:** Create new features that may enhance our predictive models.\n",
    "- **Model Development:** Begin building machine learning models to meet our project objectives.\n",
    "\n",
    "---"
   ]
  }
 ],
 "metadata": {
  "kernelspec": {
   "display_name": "venv",
   "language": "python",
   "name": "python3"
  },
  "language_info": {
   "codemirror_mode": {
    "name": "ipython",
    "version": 3
   },
   "file_extension": ".py",
   "mimetype": "text/x-python",
   "name": "python",
   "nbconvert_exporter": "python",
   "pygments_lexer": "ipython3",
   "version": "3.12.6"
  }
 },
 "nbformat": 4,
 "nbformat_minor": 2
}
