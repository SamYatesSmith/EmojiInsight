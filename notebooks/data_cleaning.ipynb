{
 "cells": [
  {
   "cell_type": "markdown",
   "metadata": {},
   "source": [
    "# Data Cleaning Notebook\n",
    "\n",
    "## EmojiInsight Project\n",
    "\n",
    "This notebook is dedicated to the data cleaning and preprocessing steps for the **EmojiInsight** project. We will parse and process the raw data files, particularly focusing on the `emoji-test.txt` file from Unicode, to prepare the data for analysis and modeling.\n",
    "\n",
    "---"
   ]
  },
  {
   "cell_type": "markdown",
   "metadata": {},
   "source": [
    "### 1. Importing Necessary Libraries\n",
    "\n",
    "First, we import the essential libraries required for data processing and manipulation. We also adjust the Python path to include our project's root directory so we can import custom modules from the `src` directory."
   ]
  },
  {
   "cell_type": "code",
   "execution_count": 55,
   "metadata": {},
   "outputs": [],
   "source": [
    "import sys\n",
    "import os\n",
    "import pandas as pd"
   ]
  },
  {
   "cell_type": "markdown",
   "metadata": {},
   "source": [
    "### 2. Adjusting `sys.path`\n",
    "\n",
    "Since our notebook is located in the `notebooks/` directory and our custom modules are in the `src/` directory, we need to add the parent directory of our project to `sys.path`. This allows us to import modules from `src` without issues."
   ]
  },
  {
   "cell_type": "code",
   "execution_count": 56,
   "metadata": {},
   "outputs": [],
   "source": [
    "# Get the absolute path of the parent directory (EmojiInsight)\n",
    "parent_dir = os.path.abspath('..')\n",
    "\n",
    "# Add the parent directory to sys.path if it's not already there\n",
    "if parent_dir not in sys.path:\n",
    "    sys.path.insert(0, parent_dir)"
   ]
  },
  {
   "cell_type": "markdown",
   "metadata": {},
   "source": [
    "### 3. Importing the `data_processing` Module\n",
    "\n",
    "Now we can import our custom data processing module, which contains functions for loading and parsing data."
   ]
  },
  {
   "cell_type": "code",
   "execution_count": 57,
   "metadata": {},
   "outputs": [],
   "source": [
    "import src.data_processing as dp"
   ]
  },
  {
   "cell_type": "markdown",
   "metadata": {},
   "source": [
    "### 4. Parsing the `emoji-test.txt` File\n",
    "\n",
    "We will use the `parse_emoji_test` function from our `data_processing` module to parse the `emoji-test.txt` file. This file contains comprehensive information about all standardized emojis."
   ]
  },
  {
   "cell_type": "code",
   "execution_count": 58,
   "metadata": {},
   "outputs": [],
   "source": [
    "# Define the file path to emoji-test.txt\n",
    "file_path = os.path.join(parent_dir, 'data', 'raw', 'emoji_data', 'emoji-test.txt')\n",
    "\n",
    "# Parse the emoji-test.txt file\n",
    "emoji_df = dp.parse_emoji_test(file_path)"
   ]
  },
  {
   "cell_type": "markdown",
   "metadata": {},
   "source": [
    "### 5. Saving the Parsed Data\n",
    "\n",
    "After parsing, we'll save the resulting DataFrame to the `data/processed/` directory for future use in our analysis and modeling."
   ]
  },
  {
   "cell_type": "code",
   "execution_count": 59,
   "metadata": {},
   "outputs": [],
   "source": [
    "# Define the output path for the processed data\n",
    "output_path = os.path.join(parent_dir, 'data', 'processed', 'emoji_list.csv')\n",
    "\n",
    "# Ensure the processed data directory exists\n",
    "processed_data_dir = os.path.dirname(output_path)\n",
    "os.makedirs(processed_data_dir, exist_ok=True)\n",
    "\n",
    "# Save the DataFrame to the processed data directory\n",
    "emoji_df.to_csv(output_path, index=False)\n"
   ]
  },
  {
   "cell_type": "markdown",
   "metadata": {},
   "source": [
    "### 6. Viewing the Parsed Data\n",
    "\n",
    "Let's take a look at the first few rows of the parsed data to verify that everything was processed correctly."
   ]
  },
  {
   "cell_type": "code",
   "execution_count": 60,
   "metadata": {},
   "outputs": [
    {
     "data": {
      "text/html": [
       "<div>\n",
       "<style scoped>\n",
       "    .dataframe tbody tr th:only-of-type {\n",
       "        vertical-align: middle;\n",
       "    }\n",
       "\n",
       "    .dataframe tbody tr th {\n",
       "        vertical-align: top;\n",
       "    }\n",
       "\n",
       "    .dataframe thead th {\n",
       "        text-align: right;\n",
       "    }\n",
       "</style>\n",
       "<table border=\"1\" class=\"dataframe\">\n",
       "  <thead>\n",
       "    <tr style=\"text-align: right;\">\n",
       "      <th></th>\n",
       "      <th>group</th>\n",
       "      <th>subgroup</th>\n",
       "      <th>codepoints</th>\n",
       "      <th>status</th>\n",
       "      <th>emoji</th>\n",
       "      <th>name</th>\n",
       "    </tr>\n",
       "  </thead>\n",
       "  <tbody>\n",
       "    <tr>\n",
       "      <th>0</th>\n",
       "      <td>Smileys &amp; Emotion</td>\n",
       "      <td>face-smiling</td>\n",
       "      <td>1F600</td>\n",
       "      <td>fully-qualified</td>\n",
       "      <td>😀</td>\n",
       "      <td>E1.0 grinning face</td>\n",
       "    </tr>\n",
       "    <tr>\n",
       "      <th>1</th>\n",
       "      <td>Smileys &amp; Emotion</td>\n",
       "      <td>face-smiling</td>\n",
       "      <td>1F603</td>\n",
       "      <td>fully-qualified</td>\n",
       "      <td>😃</td>\n",
       "      <td>E0.6 grinning face with big eyes</td>\n",
       "    </tr>\n",
       "    <tr>\n",
       "      <th>2</th>\n",
       "      <td>Smileys &amp; Emotion</td>\n",
       "      <td>face-smiling</td>\n",
       "      <td>1F604</td>\n",
       "      <td>fully-qualified</td>\n",
       "      <td>😄</td>\n",
       "      <td>E0.6 grinning face with smiling eyes</td>\n",
       "    </tr>\n",
       "    <tr>\n",
       "      <th>3</th>\n",
       "      <td>Smileys &amp; Emotion</td>\n",
       "      <td>face-smiling</td>\n",
       "      <td>1F601</td>\n",
       "      <td>fully-qualified</td>\n",
       "      <td>😁</td>\n",
       "      <td>E0.6 beaming face with smiling eyes</td>\n",
       "    </tr>\n",
       "    <tr>\n",
       "      <th>4</th>\n",
       "      <td>Smileys &amp; Emotion</td>\n",
       "      <td>face-smiling</td>\n",
       "      <td>1F606</td>\n",
       "      <td>fully-qualified</td>\n",
       "      <td>😆</td>\n",
       "      <td>E0.6 grinning squinting face</td>\n",
       "    </tr>\n",
       "  </tbody>\n",
       "</table>\n",
       "</div>"
      ],
      "text/plain": [
       "               group      subgroup codepoints           status emoji  \\\n",
       "0  Smileys & Emotion  face-smiling      1F600  fully-qualified     😀   \n",
       "1  Smileys & Emotion  face-smiling      1F603  fully-qualified     😃   \n",
       "2  Smileys & Emotion  face-smiling      1F604  fully-qualified     😄   \n",
       "3  Smileys & Emotion  face-smiling      1F601  fully-qualified     😁   \n",
       "4  Smileys & Emotion  face-smiling      1F606  fully-qualified     😆   \n",
       "\n",
       "                                   name  \n",
       "0                    E1.0 grinning face  \n",
       "1      E0.6 grinning face with big eyes  \n",
       "2  E0.6 grinning face with smiling eyes  \n",
       "3   E0.6 beaming face with smiling eyes  \n",
       "4          E0.6 grinning squinting face  "
      ]
     },
     "execution_count": 60,
     "metadata": {},
     "output_type": "execute_result"
    }
   ],
   "source": [
    "emoji_df.head()"
   ]
  },
  {
   "cell_type": "markdown",
   "metadata": {},
   "source": [
    "### 7. Summary of Parsed Data\n",
    "\n",
    "We can also get a summary of the DataFrame to understand the structure and content of the parsed data."
   ]
  },
  {
   "cell_type": "code",
   "execution_count": 61,
   "metadata": {},
   "outputs": [
    {
     "name": "stdout",
     "output_type": "stream",
     "text": [
      "<class 'pandas.core.frame.DataFrame'>\n",
      "RangeIndex: 5034 entries, 0 to 5033\n",
      "Data columns (total 6 columns):\n",
      " #   Column      Non-Null Count  Dtype \n",
      "---  ------      --------------  ----- \n",
      " 0   group       5034 non-null   object\n",
      " 1   subgroup    5034 non-null   object\n",
      " 2   codepoints  5034 non-null   object\n",
      " 3   status      5034 non-null   object\n",
      " 4   emoji       5034 non-null   object\n",
      " 5   name        5034 non-null   object\n",
      "dtypes: object(6)\n",
      "memory usage: 236.1+ KB\n"
     ]
    }
   ],
   "source": [
    "emoji_df.info()"
   ]
  },
  {
   "cell_type": "markdown",
   "metadata": {},
   "source": [
    "### 8. Next Steps\n",
    "\n",
    "Now that we've successfully parsed and saved the Unicode emoji data, the next steps include:\n",
    "\n",
    "- **Cleaning and preprocessing** the `emoji_sentiment_data_v1.0.csv` file.\n",
    "- **Merging** the parsed emoji data with the sentiment data.\n",
    "- **Exploring** the combined data to gain insights and prepare it for modeling.\n",
    "\n",
    "---"
   ]
  },
  {
   "cell_type": "markdown",
   "metadata": {},
   "source": [
    "## 9. Cleaning and Preprocessing the `emoji_sentiment_data_v1.0.csv` File\n",
    "\n",
    "In this section, we'll load the Emoji Sentiment Data, perform necessary cleaning, and prepare it for merging with the parsed Unicode emoji data.\n",
    "\n",
    "---"
   ]
  },
  {
   "cell_type": "markdown",
   "metadata": {},
   "source": [
    "### 10.1. Loading the Dataset\n",
    "\n",
    "We will load the `emoji_sentiment_data_v1.0.csv` file into a pandas DataFrame for analysis."
   ]
  },
  {
   "cell_type": "code",
   "execution_count": 62,
   "metadata": {},
   "outputs": [
    {
     "data": {
      "text/html": [
       "<div>\n",
       "<style scoped>\n",
       "    .dataframe tbody tr th:only-of-type {\n",
       "        vertical-align: middle;\n",
       "    }\n",
       "\n",
       "    .dataframe tbody tr th {\n",
       "        vertical-align: top;\n",
       "    }\n",
       "\n",
       "    .dataframe thead th {\n",
       "        text-align: right;\n",
       "    }\n",
       "</style>\n",
       "<table border=\"1\" class=\"dataframe\">\n",
       "  <thead>\n",
       "    <tr style=\"text-align: right;\">\n",
       "      <th></th>\n",
       "      <th>Emoji</th>\n",
       "      <th>Unicode codepoint</th>\n",
       "      <th>Occurrences</th>\n",
       "      <th>Position</th>\n",
       "      <th>Negative</th>\n",
       "      <th>Neutral</th>\n",
       "      <th>Positive</th>\n",
       "      <th>Unicode name</th>\n",
       "      <th>Unicode block</th>\n",
       "    </tr>\n",
       "  </thead>\n",
       "  <tbody>\n",
       "    <tr>\n",
       "      <th>0</th>\n",
       "      <td>😂</td>\n",
       "      <td>0x1f602</td>\n",
       "      <td>14622</td>\n",
       "      <td>0.805101</td>\n",
       "      <td>3614</td>\n",
       "      <td>4163</td>\n",
       "      <td>6845</td>\n",
       "      <td>FACE WITH TEARS OF JOY</td>\n",
       "      <td>Emoticons</td>\n",
       "    </tr>\n",
       "    <tr>\n",
       "      <th>1</th>\n",
       "      <td>❤</td>\n",
       "      <td>0x2764</td>\n",
       "      <td>8050</td>\n",
       "      <td>0.746943</td>\n",
       "      <td>355</td>\n",
       "      <td>1334</td>\n",
       "      <td>6361</td>\n",
       "      <td>HEAVY BLACK HEART</td>\n",
       "      <td>Dingbats</td>\n",
       "    </tr>\n",
       "    <tr>\n",
       "      <th>2</th>\n",
       "      <td>♥</td>\n",
       "      <td>0x2665</td>\n",
       "      <td>7144</td>\n",
       "      <td>0.753806</td>\n",
       "      <td>252</td>\n",
       "      <td>1942</td>\n",
       "      <td>4950</td>\n",
       "      <td>BLACK HEART SUIT</td>\n",
       "      <td>Miscellaneous Symbols</td>\n",
       "    </tr>\n",
       "    <tr>\n",
       "      <th>3</th>\n",
       "      <td>😍</td>\n",
       "      <td>0x1f60d</td>\n",
       "      <td>6359</td>\n",
       "      <td>0.765292</td>\n",
       "      <td>329</td>\n",
       "      <td>1390</td>\n",
       "      <td>4640</td>\n",
       "      <td>SMILING FACE WITH HEART-SHAPED EYES</td>\n",
       "      <td>Emoticons</td>\n",
       "    </tr>\n",
       "    <tr>\n",
       "      <th>4</th>\n",
       "      <td>😭</td>\n",
       "      <td>0x1f62d</td>\n",
       "      <td>5526</td>\n",
       "      <td>0.803352</td>\n",
       "      <td>2412</td>\n",
       "      <td>1218</td>\n",
       "      <td>1896</td>\n",
       "      <td>LOUDLY CRYING FACE</td>\n",
       "      <td>Emoticons</td>\n",
       "    </tr>\n",
       "  </tbody>\n",
       "</table>\n",
       "</div>"
      ],
      "text/plain": [
       "  Emoji Unicode codepoint  Occurrences  Position  Negative  Neutral  Positive  \\\n",
       "0     😂           0x1f602        14622  0.805101      3614     4163      6845   \n",
       "1     ❤            0x2764         8050  0.746943       355     1334      6361   \n",
       "2     ♥            0x2665         7144  0.753806       252     1942      4950   \n",
       "3     😍           0x1f60d         6359  0.765292       329     1390      4640   \n",
       "4     😭           0x1f62d         5526  0.803352      2412     1218      1896   \n",
       "\n",
       "                          Unicode name          Unicode block  \n",
       "0               FACE WITH TEARS OF JOY              Emoticons  \n",
       "1                    HEAVY BLACK HEART               Dingbats  \n",
       "2                     BLACK HEART SUIT  Miscellaneous Symbols  \n",
       "3  SMILING FACE WITH HEART-SHAPED EYES              Emoticons  \n",
       "4                   LOUDLY CRYING FACE              Emoticons  "
      ]
     },
     "execution_count": 62,
     "metadata": {},
     "output_type": "execute_result"
    }
   ],
   "source": [
    "# Define the file path to the dataset\n",
    "sentiment_file_path = os.path.join(parent_dir, 'data', 'raw', 'emoji_data', 'Emoji_Sentiment_Data_v1.0.csv')\n",
    "\n",
    "# Check if the file exists to avoid errors\n",
    "if not os.path.exists(sentiment_file_path):\n",
    "    raise FileNotFoundError(f\"The file {sentiment_file_path} does not exist. Please check the file path.\")\n",
    "\n",
    "# Load the dataset\n",
    "sentiment_df = pd.read_csv(sentiment_file_path)\n",
    "\n",
    "# Display the first few rows\n",
    "sentiment_df.head()\n"
   ]
  },
  {
   "cell_type": "markdown",
   "metadata": {},
   "source": [
    "### 10.2. Exploring the Dataset\n",
    "\n",
    "Let's explore the dataset to understand its structure, data types, and identify any potential issues."
   ]
  },
  {
   "cell_type": "code",
   "execution_count": 63,
   "metadata": {},
   "outputs": [
    {
     "name": "stdout",
     "output_type": "stream",
     "text": [
      "<class 'pandas.core.frame.DataFrame'>\n",
      "RangeIndex: 969 entries, 0 to 968\n",
      "Data columns (total 9 columns):\n",
      " #   Column             Non-Null Count  Dtype  \n",
      "---  ------             --------------  -----  \n",
      " 0   Emoji              969 non-null    object \n",
      " 1   Unicode codepoint  969 non-null    object \n",
      " 2   Occurrences        969 non-null    int64  \n",
      " 3   Position           969 non-null    float64\n",
      " 4   Negative           969 non-null    int64  \n",
      " 5   Neutral            969 non-null    int64  \n",
      " 6   Positive           969 non-null    int64  \n",
      " 7   Unicode name       969 non-null    object \n",
      " 8   Unicode block      969 non-null    object \n",
      "dtypes: float64(1), int64(4), object(4)\n",
      "memory usage: 68.3+ KB\n"
     ]
    },
    {
     "data": {
      "text/html": [
       "<div>\n",
       "<style scoped>\n",
       "    .dataframe tbody tr th:only-of-type {\n",
       "        vertical-align: middle;\n",
       "    }\n",
       "\n",
       "    .dataframe tbody tr th {\n",
       "        vertical-align: top;\n",
       "    }\n",
       "\n",
       "    .dataframe thead th {\n",
       "        text-align: right;\n",
       "    }\n",
       "</style>\n",
       "<table border=\"1\" class=\"dataframe\">\n",
       "  <thead>\n",
       "    <tr style=\"text-align: right;\">\n",
       "      <th></th>\n",
       "      <th>Emoji</th>\n",
       "      <th>Unicode codepoint</th>\n",
       "      <th>Occurrences</th>\n",
       "      <th>Position</th>\n",
       "      <th>Negative</th>\n",
       "      <th>Neutral</th>\n",
       "      <th>Positive</th>\n",
       "      <th>Unicode name</th>\n",
       "      <th>Unicode block</th>\n",
       "    </tr>\n",
       "  </thead>\n",
       "  <tbody>\n",
       "    <tr>\n",
       "      <th>count</th>\n",
       "      <td>969</td>\n",
       "      <td>969</td>\n",
       "      <td>969.000000</td>\n",
       "      <td>969.000000</td>\n",
       "      <td>969.000000</td>\n",
       "      <td>969.000000</td>\n",
       "      <td>969.000000</td>\n",
       "      <td>969</td>\n",
       "      <td>969</td>\n",
       "    </tr>\n",
       "    <tr>\n",
       "      <th>unique</th>\n",
       "      <td>969</td>\n",
       "      <td>969</td>\n",
       "      <td>NaN</td>\n",
       "      <td>NaN</td>\n",
       "      <td>NaN</td>\n",
       "      <td>NaN</td>\n",
       "      <td>NaN</td>\n",
       "      <td>969</td>\n",
       "      <td>26</td>\n",
       "    </tr>\n",
       "    <tr>\n",
       "      <th>top</th>\n",
       "      <td>📔</td>\n",
       "      <td>0x1f4d4</td>\n",
       "      <td>NaN</td>\n",
       "      <td>NaN</td>\n",
       "      <td>NaN</td>\n",
       "      <td>NaN</td>\n",
       "      <td>NaN</td>\n",
       "      <td>NOTEBOOK WITH DECORATIVE COVER</td>\n",
       "      <td>Miscellaneous Symbols and Pictographs</td>\n",
       "    </tr>\n",
       "    <tr>\n",
       "      <th>freq</th>\n",
       "      <td>1</td>\n",
       "      <td>1</td>\n",
       "      <td>NaN</td>\n",
       "      <td>NaN</td>\n",
       "      <td>NaN</td>\n",
       "      <td>NaN</td>\n",
       "      <td>NaN</td>\n",
       "      <td>1</td>\n",
       "      <td>484</td>\n",
       "    </tr>\n",
       "    <tr>\n",
       "      <th>mean</th>\n",
       "      <td>NaN</td>\n",
       "      <td>NaN</td>\n",
       "      <td>161.961816</td>\n",
       "      <td>0.654980</td>\n",
       "      <td>24.873065</td>\n",
       "      <td>48.942208</td>\n",
       "      <td>88.146543</td>\n",
       "      <td>NaN</td>\n",
       "      <td>NaN</td>\n",
       "    </tr>\n",
       "    <tr>\n",
       "      <th>std</th>\n",
       "      <td>NaN</td>\n",
       "      <td>NaN</td>\n",
       "      <td>713.675266</td>\n",
       "      <td>0.195021</td>\n",
       "      <td>153.120845</td>\n",
       "      <td>189.329228</td>\n",
       "      <td>424.849727</td>\n",
       "      <td>NaN</td>\n",
       "      <td>NaN</td>\n",
       "    </tr>\n",
       "    <tr>\n",
       "      <th>min</th>\n",
       "      <td>NaN</td>\n",
       "      <td>NaN</td>\n",
       "      <td>1.000000</td>\n",
       "      <td>0.009615</td>\n",
       "      <td>0.000000</td>\n",
       "      <td>0.000000</td>\n",
       "      <td>0.000000</td>\n",
       "      <td>NaN</td>\n",
       "      <td>NaN</td>\n",
       "    </tr>\n",
       "    <tr>\n",
       "      <th>25%</th>\n",
       "      <td>NaN</td>\n",
       "      <td>NaN</td>\n",
       "      <td>5.000000</td>\n",
       "      <td>0.557252</td>\n",
       "      <td>0.000000</td>\n",
       "      <td>2.000000</td>\n",
       "      <td>2.000000</td>\n",
       "      <td>NaN</td>\n",
       "      <td>NaN</td>\n",
       "    </tr>\n",
       "    <tr>\n",
       "      <th>50%</th>\n",
       "      <td>NaN</td>\n",
       "      <td>NaN</td>\n",
       "      <td>18.000000</td>\n",
       "      <td>0.680000</td>\n",
       "      <td>2.000000</td>\n",
       "      <td>7.000000</td>\n",
       "      <td>7.000000</td>\n",
       "      <td>NaN</td>\n",
       "      <td>NaN</td>\n",
       "    </tr>\n",
       "    <tr>\n",
       "      <th>75%</th>\n",
       "      <td>NaN</td>\n",
       "      <td>NaN</td>\n",
       "      <td>77.000000</td>\n",
       "      <td>0.793676</td>\n",
       "      <td>8.000000</td>\n",
       "      <td>28.000000</td>\n",
       "      <td>36.000000</td>\n",
       "      <td>NaN</td>\n",
       "      <td>NaN</td>\n",
       "    </tr>\n",
       "    <tr>\n",
       "      <th>max</th>\n",
       "      <td>NaN</td>\n",
       "      <td>NaN</td>\n",
       "      <td>14622.000000</td>\n",
       "      <td>1.000000</td>\n",
       "      <td>3614.000000</td>\n",
       "      <td>4163.000000</td>\n",
       "      <td>6845.000000</td>\n",
       "      <td>NaN</td>\n",
       "      <td>NaN</td>\n",
       "    </tr>\n",
       "  </tbody>\n",
       "</table>\n",
       "</div>"
      ],
      "text/plain": [
       "       Emoji Unicode codepoint   Occurrences    Position     Negative  \\\n",
       "count    969               969    969.000000  969.000000   969.000000   \n",
       "unique   969               969           NaN         NaN          NaN   \n",
       "top        📔           0x1f4d4           NaN         NaN          NaN   \n",
       "freq       1                 1           NaN         NaN          NaN   \n",
       "mean     NaN               NaN    161.961816    0.654980    24.873065   \n",
       "std      NaN               NaN    713.675266    0.195021   153.120845   \n",
       "min      NaN               NaN      1.000000    0.009615     0.000000   \n",
       "25%      NaN               NaN      5.000000    0.557252     0.000000   \n",
       "50%      NaN               NaN     18.000000    0.680000     2.000000   \n",
       "75%      NaN               NaN     77.000000    0.793676     8.000000   \n",
       "max      NaN               NaN  14622.000000    1.000000  3614.000000   \n",
       "\n",
       "            Neutral     Positive                    Unicode name  \\\n",
       "count    969.000000   969.000000                             969   \n",
       "unique          NaN          NaN                             969   \n",
       "top             NaN          NaN  NOTEBOOK WITH DECORATIVE COVER   \n",
       "freq            NaN          NaN                               1   \n",
       "mean      48.942208    88.146543                             NaN   \n",
       "std      189.329228   424.849727                             NaN   \n",
       "min        0.000000     0.000000                             NaN   \n",
       "25%        2.000000     2.000000                             NaN   \n",
       "50%        7.000000     7.000000                             NaN   \n",
       "75%       28.000000    36.000000                             NaN   \n",
       "max     4163.000000  6845.000000                             NaN   \n",
       "\n",
       "                                Unicode block  \n",
       "count                                     969  \n",
       "unique                                     26  \n",
       "top     Miscellaneous Symbols and Pictographs  \n",
       "freq                                      484  \n",
       "mean                                      NaN  \n",
       "std                                       NaN  \n",
       "min                                       NaN  \n",
       "25%                                       NaN  \n",
       "50%                                       NaN  \n",
       "75%                                       NaN  \n",
       "max                                       NaN  "
      ]
     },
     "execution_count": 63,
     "metadata": {},
     "output_type": "execute_result"
    }
   ],
   "source": [
    "# Get basic information about the DataFrame\n",
    "sentiment_df.info()\n",
    "# Check for missing values\n",
    "sentiment_df.isnull().sum()\n",
    "# Get summary statistics\n",
    "sentiment_df.describe(include='all')"
   ]
  },
  {
   "cell_type": "markdown",
   "metadata": {},
   "source": [
    "### 10.3. Data Cleaning\n",
    "\n",
    "Based on the exploration, we'll perform the following cleaning steps:\n",
    "\n",
    "- **Rename Columns:** Standardize column names for consistency.\n",
    "- **Handle Missing Values:** Address any missing data if present.\n",
    "- **Correct Data Types:** Ensure columns have appropriate data types.\n",
    "- **Standardize Unicode Codepoints:** Prepare codepoints for merging with the Unicode emoji data."
   ]
  },
  {
   "cell_type": "code",
   "execution_count": 64,
   "metadata": {},
   "outputs": [
    {
     "data": {
      "text/html": [
       "<div>\n",
       "<style scoped>\n",
       "    .dataframe tbody tr th:only-of-type {\n",
       "        vertical-align: middle;\n",
       "    }\n",
       "\n",
       "    .dataframe tbody tr th {\n",
       "        vertical-align: top;\n",
       "    }\n",
       "\n",
       "    .dataframe thead th {\n",
       "        text-align: right;\n",
       "    }\n",
       "</style>\n",
       "<table border=\"1\" class=\"dataframe\">\n",
       "  <thead>\n",
       "    <tr style=\"text-align: right;\">\n",
       "      <th></th>\n",
       "      <th>emoji</th>\n",
       "      <th>codepoint</th>\n",
       "      <th>occurrences</th>\n",
       "      <th>position</th>\n",
       "      <th>negative</th>\n",
       "      <th>neutral</th>\n",
       "      <th>positive</th>\n",
       "      <th>name</th>\n",
       "      <th>block</th>\n",
       "    </tr>\n",
       "  </thead>\n",
       "  <tbody>\n",
       "    <tr>\n",
       "      <th>0</th>\n",
       "      <td>😂</td>\n",
       "      <td>0x1f602</td>\n",
       "      <td>14622</td>\n",
       "      <td>0.805101</td>\n",
       "      <td>3614</td>\n",
       "      <td>4163</td>\n",
       "      <td>6845</td>\n",
       "      <td>FACE WITH TEARS OF JOY</td>\n",
       "      <td>Emoticons</td>\n",
       "    </tr>\n",
       "    <tr>\n",
       "      <th>1</th>\n",
       "      <td>❤</td>\n",
       "      <td>0x2764</td>\n",
       "      <td>8050</td>\n",
       "      <td>0.746943</td>\n",
       "      <td>355</td>\n",
       "      <td>1334</td>\n",
       "      <td>6361</td>\n",
       "      <td>HEAVY BLACK HEART</td>\n",
       "      <td>Dingbats</td>\n",
       "    </tr>\n",
       "    <tr>\n",
       "      <th>2</th>\n",
       "      <td>♥</td>\n",
       "      <td>0x2665</td>\n",
       "      <td>7144</td>\n",
       "      <td>0.753806</td>\n",
       "      <td>252</td>\n",
       "      <td>1942</td>\n",
       "      <td>4950</td>\n",
       "      <td>BLACK HEART SUIT</td>\n",
       "      <td>Miscellaneous Symbols</td>\n",
       "    </tr>\n",
       "    <tr>\n",
       "      <th>3</th>\n",
       "      <td>😍</td>\n",
       "      <td>0x1f60d</td>\n",
       "      <td>6359</td>\n",
       "      <td>0.765292</td>\n",
       "      <td>329</td>\n",
       "      <td>1390</td>\n",
       "      <td>4640</td>\n",
       "      <td>SMILING FACE WITH HEART-SHAPED EYES</td>\n",
       "      <td>Emoticons</td>\n",
       "    </tr>\n",
       "    <tr>\n",
       "      <th>4</th>\n",
       "      <td>😭</td>\n",
       "      <td>0x1f62d</td>\n",
       "      <td>5526</td>\n",
       "      <td>0.803352</td>\n",
       "      <td>2412</td>\n",
       "      <td>1218</td>\n",
       "      <td>1896</td>\n",
       "      <td>LOUDLY CRYING FACE</td>\n",
       "      <td>Emoticons</td>\n",
       "    </tr>\n",
       "  </tbody>\n",
       "</table>\n",
       "</div>"
      ],
      "text/plain": [
       "  emoji codepoint  occurrences  position  negative  neutral  positive  \\\n",
       "0     😂   0x1f602        14622  0.805101      3614     4163      6845   \n",
       "1     ❤    0x2764         8050  0.746943       355     1334      6361   \n",
       "2     ♥    0x2665         7144  0.753806       252     1942      4950   \n",
       "3     😍   0x1f60d         6359  0.765292       329     1390      4640   \n",
       "4     😭   0x1f62d         5526  0.803352      2412     1218      1896   \n",
       "\n",
       "                                  name                  block  \n",
       "0               FACE WITH TEARS OF JOY              Emoticons  \n",
       "1                    HEAVY BLACK HEART               Dingbats  \n",
       "2                     BLACK HEART SUIT  Miscellaneous Symbols  \n",
       "3  SMILING FACE WITH HEART-SHAPED EYES              Emoticons  \n",
       "4                   LOUDLY CRYING FACE              Emoticons  "
      ]
     },
     "execution_count": 64,
     "metadata": {},
     "output_type": "execute_result"
    }
   ],
   "source": [
    "# Rename columns for consistency\n",
    "sentiment_df.rename(columns={\n",
    "    'Emoji': 'emoji',\n",
    "    'Unicode codepoint': 'codepoint',\n",
    "    'Occurrences': 'occurrences',\n",
    "    'Position': 'position',\n",
    "    'Negative': 'negative',\n",
    "    'Neutral': 'neutral',\n",
    "    'Positive': 'positive',\n",
    "    'Unicode name': 'name',\n",
    "    'Unicode block': 'block'\n",
    "}, inplace=True)\n",
    "\n",
    "# Verify the changes\n",
    "sentiment_df.head()"
   ]
  },
  {
   "cell_type": "code",
   "execution_count": 65,
   "metadata": {},
   "outputs": [
    {
     "data": {
      "text/plain": [
       "emoji          0\n",
       "codepoint      0\n",
       "occurrences    0\n",
       "position       0\n",
       "negative       0\n",
       "neutral        0\n",
       "positive       0\n",
       "name           0\n",
       "block          0\n",
       "dtype: int64"
      ]
     },
     "execution_count": 65,
     "metadata": {},
     "output_type": "execute_result"
    }
   ],
   "source": [
    "# Check for missing values again\n",
    "sentiment_df.isnull().sum()\n",
    "# Drop rows with missing values (if appropriate)"
   ]
  },
  {
   "cell_type": "code",
   "execution_count": 66,
   "metadata": {},
   "outputs": [
    {
     "data": {
      "text/plain": [
       "emoji           object\n",
       "codepoint       object\n",
       "occurrences      int64\n",
       "position       float64\n",
       "negative         int64\n",
       "neutral          int64\n",
       "positive         int64\n",
       "name            object\n",
       "block           object\n",
       "dtype: object"
      ]
     },
     "execution_count": 66,
     "metadata": {},
     "output_type": "execute_result"
    }
   ],
   "source": [
    "# Ensure numeric columns are of numeric data types\n",
    "numeric_columns = ['occurrences', 'position', 'negative', 'neutral', 'positive']\n",
    "sentiment_df[numeric_columns] = sentiment_df[numeric_columns].apply(pd.to_numeric, errors='coerce')\n",
    "\n",
    "# Verify data types\n",
    "sentiment_df.dtypes"
   ]
  },
  {
   "cell_type": "code",
   "execution_count": 67,
   "metadata": {},
   "outputs": [],
   "source": [
    "# Remove '0x' prefix and convert codepoints to uppercase\n",
    "sentiment_df['codepoint_std'] = sentiment_df['codepoint'].str.replace('0x', '').str.upper()"
   ]
  },
  {
   "cell_type": "markdown",
   "metadata": {},
   "source": [
    "### 10.4. Saving the Cleaned Data\n",
    "\n",
    "After cleaning, we'll save the cleaned DataFrame to the `data/processed/` directory for future use."
   ]
  },
  {
   "cell_type": "code",
   "execution_count": 68,
   "metadata": {},
   "outputs": [],
   "source": [
    "# Define the output path for the cleaned data\n",
    "cleaned_sentiment_path = os.path.join(parent_dir, 'data', 'processed', 'emoji_sentiment_data_cleaned.csv')\n",
    "\n",
    "# Save the cleaned DataFrame\n",
    "sentiment_df.to_csv(cleaned_sentiment_path, index=False)"
   ]
  },
  {
   "cell_type": "markdown",
   "metadata": {},
   "source": [
    "### 10.5.1. Verify Columns in `sentiment_df` and `emoji_df`\n",
    "\n",
    "Before merging, let's ensure that both DataFrames contain the `'codepoint_std'` column."
   ]
  },
  {
   "cell_type": "code",
   "execution_count": 69,
   "metadata": {},
   "outputs": [
    {
     "name": "stdout",
     "output_type": "stream",
     "text": [
      "Columns in sentiment_df: ['emoji', 'codepoint', 'occurrences', 'position', 'negative', 'neutral', 'positive', 'name', 'block', 'codepoint_std']\n",
      "Columns in emoji_df: ['group', 'subgroup', 'codepoints', 'status', 'emoji', 'name']\n"
     ]
    }
   ],
   "source": [
    "# Check columns in sentiment_df\n",
    "print(\"Columns in sentiment_df:\", sentiment_df.columns.tolist())\n",
    "\n",
    "# Check columns in emoji_df\n",
    "print(\"Columns in emoji_df:\", emoji_df.columns.tolist())"
   ]
  },
  {
   "cell_type": "code",
   "execution_count": 70,
   "metadata": {},
   "outputs": [
    {
     "name": "stdout",
     "output_type": "stream",
     "text": [
      "The 'codepoint_std' column exists in sentiment_df.\n",
      "The 'codepoint_std' column is missing in emoji_df.\n"
     ]
    }
   ],
   "source": [
    "# Verify 'codepoint_std' in sentiment_df\n",
    "if 'codepoint_std' in sentiment_df.columns:\n",
    "    print(\"The 'codepoint_std' column exists in sentiment_df.\")\n",
    "else:\n",
    "    print(\"The 'codepoint_std' column is missing in sentiment_df.\")\n",
    "\n",
    "# Verify 'codepoint_std' in emoji_df\n",
    "if 'codepoint_std' in emoji_df.columns:\n",
    "    print(\"The 'codepoint_std' column exists in emoji_df.\")\n",
    "else:\n",
    "    print(\"The 'codepoint_std' column is missing in emoji_df.\")"
   ]
  },
  {
   "cell_type": "markdown",
   "metadata": {},
   "source": [
    "#### 10.5.2. Creating `'codepoint_std'` in `emoji_df`\n",
    "\n",
    "It appears that the `'codepoint_std'` column is missing in `emoji_df`. We'll create it by standardizing the `'codepoints'` column."
   ]
  },
  {
   "cell_type": "code",
   "execution_count": 71,
   "metadata": {},
   "outputs": [
    {
     "name": "stdout",
     "output_type": "stream",
     "text": [
      "'codepoint_std' column created in emoji_df.\n",
      "Verification: 'codepoint_std' exists in emoji_df.\n"
     ]
    }
   ],
   "source": [
    "# Check if 'codepoints' exists in emoji_df\n",
    "if 'codepoints' in emoji_df.columns:\n",
    "    # Create 'codepoint_std'\n",
    "    emoji_df['codepoint_std'] = emoji_df['codepoints'].str.replace(' ', '-').str.upper()\n",
    "    print(\"'codepoint_std' column created in emoji_df.\")\n",
    "else:\n",
    "    print(\"The 'codepoints' column is missing in emoji_df. Please verify the data.\")\n",
    "    \n",
    "# Verify creation\n",
    "if 'codepoint_std' in emoji_df.columns:\n",
    "    print(\"Verification: 'codepoint_std' exists in emoji_df.\")\n",
    "else:\n",
    "    raise KeyError(\"Failed to create 'codepoint_std' in emoji_df.\")\n"
   ]
  },
  {
   "cell_type": "markdown",
   "metadata": {},
   "source": [
    "### 10.5.3. Merging `sentiment_df` with `emoji_df`\n",
    "\n",
    "With the `'codepoint_std'` column present in both DataFrames, we'll perform the merge to enrich our dataset."
   ]
  },
  {
   "cell_type": "code",
   "execution_count": 72,
   "metadata": {},
   "outputs": [
    {
     "name": "stdout",
     "output_type": "stream",
     "text": [
      "Columns in merged_df after merge: ['emoji_sentiment', 'codepoint', 'occurrences', 'position', 'negative', 'neutral', 'positive', 'name_sentiment', 'block', 'codepoint_std', 'group', 'subgroup', 'codepoints', 'status', 'emoji_emoji', 'name_emoji']\n"
     ]
    },
    {
     "data": {
      "text/html": [
       "<div>\n",
       "<style scoped>\n",
       "    .dataframe tbody tr th:only-of-type {\n",
       "        vertical-align: middle;\n",
       "    }\n",
       "\n",
       "    .dataframe tbody tr th {\n",
       "        vertical-align: top;\n",
       "    }\n",
       "\n",
       "    .dataframe thead th {\n",
       "        text-align: right;\n",
       "    }\n",
       "</style>\n",
       "<table border=\"1\" class=\"dataframe\">\n",
       "  <thead>\n",
       "    <tr style=\"text-align: right;\">\n",
       "      <th></th>\n",
       "      <th>emoji_sentiment</th>\n",
       "      <th>codepoint</th>\n",
       "      <th>occurrences</th>\n",
       "      <th>position</th>\n",
       "      <th>negative</th>\n",
       "      <th>neutral</th>\n",
       "      <th>positive</th>\n",
       "      <th>name_sentiment</th>\n",
       "      <th>block</th>\n",
       "      <th>codepoint_std</th>\n",
       "      <th>group</th>\n",
       "      <th>subgroup</th>\n",
       "      <th>codepoints</th>\n",
       "      <th>status</th>\n",
       "      <th>emoji_emoji</th>\n",
       "      <th>name_emoji</th>\n",
       "    </tr>\n",
       "  </thead>\n",
       "  <tbody>\n",
       "    <tr>\n",
       "      <th>0</th>\n",
       "      <td>😂</td>\n",
       "      <td>0x1f602</td>\n",
       "      <td>14622</td>\n",
       "      <td>0.805101</td>\n",
       "      <td>3614</td>\n",
       "      <td>4163</td>\n",
       "      <td>6845</td>\n",
       "      <td>FACE WITH TEARS OF JOY</td>\n",
       "      <td>Emoticons</td>\n",
       "      <td>1F602</td>\n",
       "      <td>Smileys &amp; Emotion</td>\n",
       "      <td>face-smiling</td>\n",
       "      <td>1F602</td>\n",
       "      <td>fully-qualified</td>\n",
       "      <td>😂</td>\n",
       "      <td>E0.6 face with tears of joy</td>\n",
       "    </tr>\n",
       "    <tr>\n",
       "      <th>1</th>\n",
       "      <td>❤</td>\n",
       "      <td>0x2764</td>\n",
       "      <td>8050</td>\n",
       "      <td>0.746943</td>\n",
       "      <td>355</td>\n",
       "      <td>1334</td>\n",
       "      <td>6361</td>\n",
       "      <td>HEAVY BLACK HEART</td>\n",
       "      <td>Dingbats</td>\n",
       "      <td>2764</td>\n",
       "      <td>Smileys &amp; Emotion</td>\n",
       "      <td>heart</td>\n",
       "      <td>2764</td>\n",
       "      <td>unqualified</td>\n",
       "      <td>❤</td>\n",
       "      <td>E0.6 red heart</td>\n",
       "    </tr>\n",
       "    <tr>\n",
       "      <th>2</th>\n",
       "      <td>♥</td>\n",
       "      <td>0x2665</td>\n",
       "      <td>7144</td>\n",
       "      <td>0.753806</td>\n",
       "      <td>252</td>\n",
       "      <td>1942</td>\n",
       "      <td>4950</td>\n",
       "      <td>BLACK HEART SUIT</td>\n",
       "      <td>Miscellaneous Symbols</td>\n",
       "      <td>2665</td>\n",
       "      <td>Activities</td>\n",
       "      <td>game</td>\n",
       "      <td>2665</td>\n",
       "      <td>unqualified</td>\n",
       "      <td>♥</td>\n",
       "      <td>E0.6 heart suit</td>\n",
       "    </tr>\n",
       "    <tr>\n",
       "      <th>3</th>\n",
       "      <td>😍</td>\n",
       "      <td>0x1f60d</td>\n",
       "      <td>6359</td>\n",
       "      <td>0.765292</td>\n",
       "      <td>329</td>\n",
       "      <td>1390</td>\n",
       "      <td>4640</td>\n",
       "      <td>SMILING FACE WITH HEART-SHAPED EYES</td>\n",
       "      <td>Emoticons</td>\n",
       "      <td>1F60D</td>\n",
       "      <td>Smileys &amp; Emotion</td>\n",
       "      <td>face-affection</td>\n",
       "      <td>1F60D</td>\n",
       "      <td>fully-qualified</td>\n",
       "      <td>😍</td>\n",
       "      <td>E0.6 smiling face with heart-eyes</td>\n",
       "    </tr>\n",
       "    <tr>\n",
       "      <th>4</th>\n",
       "      <td>😭</td>\n",
       "      <td>0x1f62d</td>\n",
       "      <td>5526</td>\n",
       "      <td>0.803352</td>\n",
       "      <td>2412</td>\n",
       "      <td>1218</td>\n",
       "      <td>1896</td>\n",
       "      <td>LOUDLY CRYING FACE</td>\n",
       "      <td>Emoticons</td>\n",
       "      <td>1F62D</td>\n",
       "      <td>Smileys &amp; Emotion</td>\n",
       "      <td>face-concerned</td>\n",
       "      <td>1F62D</td>\n",
       "      <td>fully-qualified</td>\n",
       "      <td>😭</td>\n",
       "      <td>E0.6 loudly crying face</td>\n",
       "    </tr>\n",
       "  </tbody>\n",
       "</table>\n",
       "</div>"
      ],
      "text/plain": [
       "  emoji_sentiment codepoint  occurrences  position  negative  neutral  \\\n",
       "0               😂   0x1f602        14622  0.805101      3614     4163   \n",
       "1               ❤    0x2764         8050  0.746943       355     1334   \n",
       "2               ♥    0x2665         7144  0.753806       252     1942   \n",
       "3               😍   0x1f60d         6359  0.765292       329     1390   \n",
       "4               😭   0x1f62d         5526  0.803352      2412     1218   \n",
       "\n",
       "   positive                       name_sentiment                  block  \\\n",
       "0      6845               FACE WITH TEARS OF JOY              Emoticons   \n",
       "1      6361                    HEAVY BLACK HEART               Dingbats   \n",
       "2      4950                     BLACK HEART SUIT  Miscellaneous Symbols   \n",
       "3      4640  SMILING FACE WITH HEART-SHAPED EYES              Emoticons   \n",
       "4      1896                   LOUDLY CRYING FACE              Emoticons   \n",
       "\n",
       "  codepoint_std              group        subgroup codepoints  \\\n",
       "0         1F602  Smileys & Emotion    face-smiling      1F602   \n",
       "1          2764  Smileys & Emotion           heart       2764   \n",
       "2          2665         Activities            game       2665   \n",
       "3         1F60D  Smileys & Emotion  face-affection      1F60D   \n",
       "4         1F62D  Smileys & Emotion  face-concerned      1F62D   \n",
       "\n",
       "            status emoji_emoji                         name_emoji  \n",
       "0  fully-qualified           😂        E0.6 face with tears of joy  \n",
       "1      unqualified           ❤                     E0.6 red heart  \n",
       "2      unqualified           ♥                    E0.6 heart suit  \n",
       "3  fully-qualified           😍  E0.6 smiling face with heart-eyes  \n",
       "4  fully-qualified           😭            E0.6 loudly crying face  "
      ]
     },
     "execution_count": 72,
     "metadata": {},
     "output_type": "execute_result"
    }
   ],
   "source": [
    "# Perform the merge on 'codepoint_std'\n",
    "merged_df = pd.merge(\n",
    "    sentiment_df,\n",
    "    emoji_df,\n",
    "    on='codepoint_std',\n",
    "    how='inner',\n",
    "    suffixes=('_sentiment', '_emoji')  # To handle any overlapping column names\n",
    ")\n",
    "\n",
    "# Display the columns after merge\n",
    "print(\"Columns in merged_df after merge:\", merged_df.columns.tolist())\n",
    "\n",
    "# Display the first few rows to verify\n",
    "merged_df.head()"
   ]
  },
  {
   "cell_type": "markdown",
   "metadata": {},
   "source": [
    "### 10.5. Merging with the Parsed Unicode Emoji Data\n",
    "\n",
    "To enrich our dataset, we'll merge the cleaned sentiment data with the parsed Unicode emoji data on the standardized codepoints."
   ]
  },
  {
   "cell_type": "code",
   "execution_count": 73,
   "metadata": {},
   "outputs": [],
   "source": [
    "# Ensure the parsed emoji data is loaded\n",
    "# If not already loaded, load it from the processed data\n",
    "emoji_list_path = os.path.join(parent_dir, 'data', 'processed', 'emoji_list.csv')\n",
    "emoji_df = pd.read_csv(emoji_list_path)\n",
    "\n",
    "# Standardize codepoints in the emoji data\n",
    "emoji_df['codepoint_std'] = emoji_df['codepoints'].str.replace(' ', '-').str.upper()\n"
   ]
  },
  {
   "cell_type": "markdown",
   "metadata": {},
   "source": [
    "consolidate 'emoji_sentiment' and 'emoji_emoji' into a single 'emoji' column and remove the redundant"
   ]
  },
  {
   "cell_type": "code",
   "execution_count": 74,
   "metadata": {},
   "outputs": [
    {
     "name": "stdout",
     "output_type": "stream",
     "text": [
      "'emoji_sentiment' column has been renamed to 'emoji' and 'emoji_emoji' has been dropped.\n",
      "Verification: 'emoji' column is present in merged_df.\n",
      "'emoji' column dtype: object\n",
      "0    😂\n",
      "1    ❤\n",
      "2    ♥\n",
      "3    😍\n",
      "4    😭\n",
      "Name: emoji, dtype: object\n"
     ]
    }
   ],
   "source": [
    "# Consolidate 'emoji_sentiment' and 'emoji_emoji' into a single 'emoji' column\n",
    "if 'emoji_sentiment' in merged_df.columns and 'emoji_emoji' in merged_df.columns:\n",
    "    # Prefer 'emoji_sentiment' as the primary emoji column\n",
    "    merged_df['emoji'] = merged_df['emoji_sentiment']\n",
    "    # Drop the redundant 'emoji_emoji' column\n",
    "    merged_df.drop(['emoji_sentiment', 'emoji_emoji'], axis=1, inplace=True)\n",
    "    print(\"'emoji_sentiment' column has been renamed to 'emoji' and 'emoji_emoji' has been dropped.\")\n",
    "elif 'emoji_sentiment' in merged_df.columns:\n",
    "    merged_df.rename(columns={'emoji_sentiment': 'emoji'}, inplace=True)\n",
    "    print(\"'emoji_sentiment' column has been renamed to 'emoji'.\")\n",
    "elif 'emoji_emoji' in merged_df.columns:\n",
    "    merged_df.rename(columns={'emoji_emoji': 'emoji'}, inplace=True)\n",
    "    print(\"'emoji_emoji' column has been renamed to 'emoji'.\")\n",
    "else:\n",
    "    print(\"No duplicate 'emoji' columns found.\")\n",
    "\n",
    "# Verify the 'emoji' column\n",
    "if 'emoji' in merged_df.columns:\n",
    "    print(\"Verification: 'emoji' column is present in merged_df.\")\n",
    "    print(f\"'emoji' column dtype: {merged_df['emoji'].dtype}\")\n",
    "    print(merged_df['emoji'].head())\n",
    "else:\n",
    "    print(\"'emoji' column is missing in merged_df after consolidation.\")\n"
   ]
  },
  {
   "cell_type": "markdown",
   "metadata": {},
   "source": [
    "### 10.6. Saving the Merged Data\n",
    "\n",
    "We will save the merged DataFrame for future analysis and modeling."
   ]
  },
  {
   "cell_type": "code",
   "execution_count": 75,
   "metadata": {},
   "outputs": [],
   "source": [
    "# Define the output path for the merged data\n",
    "merged_data_path = os.path.join(parent_dir, 'data', 'processed', 'emoji_data_merged.csv')\n",
    "\n",
    "# Save the merged DataFrame\n",
    "merged_df.to_csv(merged_data_path, index=False)"
   ]
  },
  {
   "cell_type": "markdown",
   "metadata": {},
   "source": [
    "### 10.7. Verifying the Merged Data\n",
    "\n",
    "Let's check the structure of the merged data to ensure that the merge was successful."
   ]
  },
  {
   "cell_type": "code",
   "execution_count": 76,
   "metadata": {},
   "outputs": [
    {
     "name": "stdout",
     "output_type": "stream",
     "text": [
      "<class 'pandas.core.frame.DataFrame'>\n",
      "RangeIndex: 734 entries, 0 to 733\n",
      "Data columns (total 15 columns):\n",
      " #   Column          Non-Null Count  Dtype  \n",
      "---  ------          --------------  -----  \n",
      " 0   codepoint       734 non-null    object \n",
      " 1   occurrences     734 non-null    int64  \n",
      " 2   position        734 non-null    float64\n",
      " 3   negative        734 non-null    int64  \n",
      " 4   neutral         734 non-null    int64  \n",
      " 5   positive        734 non-null    int64  \n",
      " 6   name_sentiment  734 non-null    object \n",
      " 7   block           734 non-null    object \n",
      " 8   codepoint_std   734 non-null    object \n",
      " 9   group           734 non-null    object \n",
      " 10  subgroup        734 non-null    object \n",
      " 11  codepoints      734 non-null    object \n",
      " 12  status          734 non-null    object \n",
      " 13  name_emoji      734 non-null    object \n",
      " 14  emoji           734 non-null    object \n",
      "dtypes: float64(1), int64(4), object(10)\n",
      "memory usage: 86.1+ KB\n"
     ]
    }
   ],
   "source": [
    "# Get info about the merged DataFrame\n",
    "merged_df.info()"
   ]
  },
  {
   "cell_type": "code",
   "execution_count": 77,
   "metadata": {},
   "outputs": [
    {
     "data": {
      "text/plain": [
       "codepoint         0\n",
       "occurrences       0\n",
       "position          0\n",
       "negative          0\n",
       "neutral           0\n",
       "positive          0\n",
       "name_sentiment    0\n",
       "block             0\n",
       "codepoint_std     0\n",
       "group             0\n",
       "subgroup          0\n",
       "codepoints        0\n",
       "status            0\n",
       "name_emoji        0\n",
       "emoji             0\n",
       "dtype: int64"
      ]
     },
     "execution_count": 77,
     "metadata": {},
     "output_type": "execute_result"
    }
   ],
   "source": [
    "# Check for any missing values\n",
    "merged_df.isnull().sum()"
   ]
  },
  {
   "cell_type": "markdown",
   "metadata": {},
   "source": [
    "### 11.9. Emoji Sentiment Distribution by Category\n",
    "\n",
    "We'll use the emoji-data repository, which provides comprehensive metadata for emojis, including their categories. We'll download the emoji.json file, parse it, and create a mapping dictionary to associate each emoji with its category."
   ]
  },
  {
   "cell_type": "code",
   "execution_count": 78,
   "metadata": {},
   "outputs": [
    {
     "name": "stdout",
     "output_type": "stream",
     "text": [
      "Requirement already satisfied: pandas in /workspace/EmojiInsight/venv/lib/python3.12/site-packages (2.2.2)\n",
      "Requirement already satisfied: plotly in /workspace/EmojiInsight/venv/lib/python3.12/site-packages (5.24.1)\n",
      "Requirement already satisfied: requests in /workspace/EmojiInsight/venv/lib/python3.12/site-packages (2.32.3)\n",
      "Requirement already satisfied: numpy>=1.26.0 in /workspace/EmojiInsight/venv/lib/python3.12/site-packages (from pandas) (2.1.1)\n",
      "Requirement already satisfied: python-dateutil>=2.8.2 in /workspace/EmojiInsight/venv/lib/python3.12/site-packages (from pandas) (2.9.0.post0)\n",
      "Requirement already satisfied: pytz>=2020.1 in /workspace/EmojiInsight/venv/lib/python3.12/site-packages (from pandas) (2024.2)\n",
      "Requirement already satisfied: tzdata>=2022.7 in /workspace/EmojiInsight/venv/lib/python3.12/site-packages (from pandas) (2024.1)\n",
      "Requirement already satisfied: tenacity>=6.2.0 in /workspace/EmojiInsight/venv/lib/python3.12/site-packages (from plotly) (8.5.0)\n",
      "Requirement already satisfied: packaging in /workspace/EmojiInsight/venv/lib/python3.12/site-packages (from plotly) (24.1)\n",
      "Requirement already satisfied: charset-normalizer<4,>=2 in /workspace/EmojiInsight/venv/lib/python3.12/site-packages (from requests) (3.3.2)\n",
      "Requirement already satisfied: idna<4,>=2.5 in /workspace/EmojiInsight/venv/lib/python3.12/site-packages (from requests) (3.10)\n",
      "Requirement already satisfied: urllib3<3,>=1.21.1 in /workspace/EmojiInsight/venv/lib/python3.12/site-packages (from requests) (2.2.3)\n",
      "Requirement already satisfied: certifi>=2017.4.17 in /workspace/EmojiInsight/venv/lib/python3.12/site-packages (from requests) (2024.8.30)\n",
      "Requirement already satisfied: six>=1.5 in /workspace/EmojiInsight/venv/lib/python3.12/site-packages (from python-dateutil>=2.8.2->pandas) (1.16.0)\n",
      "Note: you may need to restart the kernel to use updated packages.\n"
     ]
    }
   ],
   "source": [
    "# Install necessary libraries if not already installed\n",
    "%pip install pandas plotly requests\n",
    "\n",
    "import pandas as pd\n",
    "import plotly.express as px\n",
    "import requests\n",
    "import json\n",
    "import os"
   ]
  },
  {
   "cell_type": "markdown",
   "metadata": {},
   "source": [
    "## Fetching Emoji Data\n",
    "We'll fetch comprehensive emoji metadata from the emoji-data repository. This data includes information about each emoji, such as its category and unified code points."
   ]
  },
  {
   "cell_type": "code",
   "execution_count": 79,
   "metadata": {},
   "outputs": [
    {
     "name": "stdout",
     "output_type": "stream",
     "text": [
      "Emoji-data fetched successfully.\n"
     ]
    }
   ],
   "source": [
    "# Correct URL to the emoji-data JSON data\n",
    "emoji_data_url = \"https://raw.githubusercontent.com/iamcal/emoji-data/master/emoji.json\"\n",
    "\n",
    "response = requests.get(emoji_data_url)\n",
    "\n",
    "if response.status_code == 200:\n",
    "    emoji_data = response.json()\n",
    "    print(\"Emoji-data fetched successfully.\")\n",
    "else:\n",
    "    print(f\"Failed to fetch emoji-data. Status code: {response.status_code}\")"
   ]
  },
  {
   "cell_type": "markdown",
   "metadata": {},
   "source": [
    "## Creating Emoji to Category Mapping\n",
    "\n",
    "Using the fetched emoji_data, we'll create a mapping from each emoji character to its respective category."
   ]
  },
  {
   "cell_type": "code",
   "execution_count": 80,
   "metadata": {},
   "outputs": [
    {
     "name": "stdout",
     "output_type": "stream",
     "text": [
      "Sample Emoji to Category Mapping:\n"
     ]
    }
   ],
   "source": [
    "# Create a mapping dictionary: emoji -> category\n",
    "emoji_category_mapping = {}\n",
    "\n",
    "for emoji_entry in emoji_data:\n",
    "    emoji_char = emoji_entry.get('emoji')\n",
    "    category = emoji_entry.get('category')\n",
    "    \n",
    "    if emoji_char and category:\n",
    "        emoji_category_mapping[emoji_char] = category.capitalize()\n",
    "\n",
    "sample_mapping = dict(list(emoji_category_mapping.items())[:10])\n",
    "print(\"Sample Emoji to Category Mapping:\")\n",
    "for emoji_char, cat in sample_mapping.items():\n",
    "    print(f\"{emoji_char}: {cat}\")\n"
   ]
  },
  {
   "cell_type": "markdown",
   "metadata": {},
   "source": [
    "## Parsing emoji-test.txt\n",
    "The emoji-test.txt file contains a comprehensive list of emojis along with their unified code points. We'll parse this file to create a mapping from unified code points to emoji characters.\n",
    "\n",
    "# Verify the File Path\n",
    "Ensure that the emoji-test.txt file exists at the specified path."
   ]
  },
  {
   "cell_type": "code",
   "execution_count": 81,
   "metadata": {},
   "outputs": [
    {
     "name": "stdout",
     "output_type": "stream",
     "text": [
      "File found at: /workspace/EmojiInsight/data/raw/emoji_data/emoji-test.txt\n"
     ]
    }
   ],
   "source": [
    "# Define the correct absolute path to the emoji-test.txt file\n",
    "emoji_test_path = '/workspace/EmojiInsight/data/raw/emoji_data/emoji-test.txt'\n",
    "\n",
    "if os.path.isfile(emoji_test_path):\n",
    "    print(f\"File found at: {emoji_test_path}\")\n",
    "else:\n",
    "    print(f\"File not found at: {emoji_test_path}\")\n"
   ]
  },
  {
   "cell_type": "code",
   "execution_count": 82,
   "metadata": {},
   "outputs": [
    {
     "name": "stdout",
     "output_type": "stream",
     "text": [
      "Contents of '/workspace/EmojiInsight/data/raw/emoji_data/':\n",
      "ESR_v1.0_format.txt\n",
      "Emoji_Sentiment_Data_v1.0.csv\n",
      "emoji-test.txt\n"
     ]
    }
   ],
   "source": [
    "# Directory containing the emoji-test.txt file\n",
    "emoji_dir = '/workspace/EmojiInsight/data/raw/emoji_data/'\n",
    "\n",
    "try:\n",
    "    contents = os.listdir(emoji_dir)\n",
    "    print(f\"Contents of '{emoji_dir}':\")\n",
    "    for item in contents:\n",
    "        print(item)\n",
    "except FileNotFoundError:\n",
    "    print(f\"The directory '{emoji_dir}' does not exist.\")\n"
   ]
  },
  {
   "cell_type": "markdown",
   "metadata": {},
   "source": [
    "## Define Conversion Function\n",
    "This function converts unified code point strings (e.g., \"1F469-200D-1F4BB\") into actual emoji characters (e.g., 👩‍💻)."
   ]
  },
  {
   "cell_type": "code",
   "execution_count": 83,
   "metadata": {},
   "outputs": [],
   "source": [
    "def unified_to_emoji_func(unified_str):\n",
    "    \"\"\"\n",
    "    Convert a unified code point string to the actual emoji character.\n",
    "    Handles multiple code points separated by '-'.\n",
    "    \"\"\"\n",
    "    try:\n",
    "        code_points = unified_str.split('-')\n",
    "        emoji_char = ''.join([chr(int(cp, 16)) for cp in code_points])\n",
    "        return emoji_char\n",
    "    except Exception as e:\n",
    "        print(f\"Error converting unified '{unified_str}': {e}\")\n",
    "        return None\n"
   ]
  },
  {
   "cell_type": "markdown",
   "metadata": {},
   "source": [
    "## Parse emoji_test.txt to Create unified_to_emoji Dictionary\n",
    "\n",
    "Parse the emoji-test.txt file to create a mapping from unified code points to emoji characters."
   ]
  },
  {
   "cell_type": "code",
   "execution_count": 84,
   "metadata": {},
   "outputs": [
    {
     "name": "stdout",
     "output_type": "stream",
     "text": [
      "Total emojis parsed from emoji_test.txt: 5034\n"
     ]
    }
   ],
   "source": [
    "def parse_emoji_test(file_path):\n",
    "    \"\"\"\n",
    "    Parse the emoji_test.txt file to create a mapping from 'unified' code points to emoji characters.\n",
    "    \"\"\"\n",
    "    unified_to_emoji = {}\n",
    "    with open(file_path, 'r', encoding='utf-8') as file:\n",
    "        for line in file:\n",
    "            if not line.strip() or line.startswith('#'):\n",
    "                continue\n",
    "            parts = line.split(';')\n",
    "            if len(parts) < 2:\n",
    "                continue\n",
    "            unified = parts[0].strip()\n",
    "            if '#' in parts[1]:\n",
    "                emoji_part = parts[1].split('#')[1].strip()\n",
    "                emoji_char = emoji_part.split(' ')[0]\n",
    "                unified_to_emoji[unified] = emoji_char\n",
    "    return unified_to_emoji\n",
    "\n",
    "unified_to_emoji = parse_emoji_test(emoji_test_path)\n",
    "print(f\"Total emojis parsed from emoji_test.txt: {len(unified_to_emoji)}\")\n",
    "\n"
   ]
  },
  {
   "cell_type": "markdown",
   "metadata": {},
   "source": [
    "## Creating the Unified to Category Mapping\n",
    "\n",
    "Using both emoji_data and the unified_to_emoji mapping, we'll create a comprehensive mapping from each emoji character to its category."
   ]
  },
  {
   "cell_type": "code",
   "execution_count": 85,
   "metadata": {},
   "outputs": [
    {
     "name": "stdout",
     "output_type": "stream",
     "text": [
      "Total emojis in unified_to_category: 1903\n"
     ]
    }
   ],
   "source": [
    "# Initialize the mapping dictionary\n",
    "unified_to_category = {}\n",
    "\n",
    "for emoji_entry in emoji_data:\n",
    "    unified = emoji_entry.get('unified')\n",
    "    category = emoji_entry.get('category')\n",
    "    \n",
    "    if unified and category:\n",
    "        emoji_char = unified_to_emoji_func(unified)\n",
    "        if emoji_char:\n",
    "            unified_to_category[emoji_char] = category.capitalize()\n",
    "\n",
    "print(f\"Total emojis in unified_to_category: {len(unified_to_category)}\")"
   ]
  },
  {
   "cell_type": "markdown",
   "metadata": {},
   "source": [
    "## Mapping Emojis in the Dataset\n",
    "\n",
    "DataFrame named merged_df that contains an 'emoji' column, we'll map each emoji to its corresponding category."
   ]
  },
  {
   "cell_type": "code",
   "execution_count": 86,
   "metadata": {},
   "outputs": [
    {
     "name": "stdout",
     "output_type": "stream",
     "text": [
      "First 10 entries with 'emoji' and 'category':\n",
      "  emoji           category\n",
      "0     😂  Smileys & emotion\n",
      "1     ❤            Unknown\n",
      "2     ♥            Unknown\n",
      "3     😍  Smileys & emotion\n",
      "4     😭  Smileys & emotion\n",
      "5     😘  Smileys & emotion\n",
      "6     😊  Smileys & emotion\n",
      "7     👌      People & body\n",
      "8     💕  Smileys & emotion\n",
      "9     👏      People & body\n"
     ]
    }
   ],
   "source": [
    "# Define emoji_to_category as a copy of unified_to_category\n",
    "emoji_to_category = unified_to_category.copy()\n",
    "\n",
    "\n",
    "def get_emoji_category(emoji_char):\n",
    "    return emoji_to_category.get(emoji_char, 'Unknown')\n",
    "merged_df['category'] = merged_df['emoji'].apply(get_emoji_category)\n",
    "print(\"First 10 entries with 'emoji' and 'category':\")\n",
    "print(merged_df[['emoji', 'category']].head(10))"
   ]
  },
  {
   "cell_type": "markdown",
   "metadata": {},
   "source": [
    "## Handling 'Unknown' Emojis\n",
    "After initial mapping, some emojis may still be categorized as 'Unknown'. We'll identify and attempt to resolve these."
   ]
  },
  {
   "cell_type": "code",
   "execution_count": 87,
   "metadata": {},
   "outputs": [
    {
     "name": "stdout",
     "output_type": "stream",
     "text": [
      "Total 'Unknown' Emojis: 58\n",
      "List of 'Unknown' Emojis:\n",
      "❤\n",
      "♥\n",
      "☺\n",
      "✌\n",
      "☯\n",
      "☀\n",
      "❄\n",
      "✈\n",
      "✔\n",
      "➡\n",
      "✖\n",
      "☝\n",
      "▪\n",
      "☑\n",
      "▶\n",
      "☁\n",
      "⚠\n",
      "♦\n",
      "✂\n",
      "⬆\n",
      "✏\n",
      "♣\n",
      "♨\n",
      "☠\n",
      "◀\n",
      "☹\n",
      "♠\n",
      "♻\n",
      "⬇\n",
      "☎\n",
      "⬅\n",
      "✳\n",
      "✒\n",
      "✉\n",
      "↪\n",
      "☂\n",
      "🅰\n",
      "☮\n",
      "♂\n",
      "Ⓜ\n",
      "🅾\n",
      "☄\n",
      "✡\n",
      "☪\n",
      "❇\n",
      "✴\n",
      "♀\n",
      "↩\n",
      "🅱\n",
      "☃\n",
      "↙\n",
      "✍\n",
      "▫\n",
      "☢\n",
      "✝\n",
      "❣\n",
      "↕\n",
      "🈂\n"
     ]
    }
   ],
   "source": [
    "# Identify 'Unknown' emojis in merged_df\n",
    "unknown_emojis = merged_df[merged_df['category'] == 'Unknown']['emoji'].unique()\n",
    "\n",
    "print(f\"Total 'Unknown' Emojis: {len(unknown_emojis)}\")\n",
    "print(\"List of 'Unknown' Emojis:\")\n",
    "for emoji_char in unknown_emojis:\n",
    "    print(emoji_char)"
   ]
  },
  {
   "cell_type": "markdown",
   "metadata": {},
   "source": [
    "## Resolve 'Unknown' Emojis Using Existing Mappings\n",
    "Resolve these 'Unknown' emojis by referencing the unified_to_emoji and emoji_to_category mappings."
   ]
  },
  {
   "cell_type": "code",
   "execution_count": 88,
   "metadata": {},
   "outputs": [
    {
     "name": "stdout",
     "output_type": "stream",
     "text": [
      "Category for emoji '❤' is still 'Unknown'.\n",
      "Category for emoji '♥' is still 'Unknown'.\n",
      "Category for emoji '☺' is still 'Unknown'.\n",
      "Category for emoji '✌' is still 'Unknown'.\n",
      "Category for emoji '☯' is still 'Unknown'.\n",
      "Category for emoji '☀' is still 'Unknown'.\n",
      "Category for emoji '❄' is still 'Unknown'.\n",
      "Category for emoji '✈' is still 'Unknown'.\n",
      "Category for emoji '✔' is still 'Unknown'.\n",
      "Category for emoji '➡' is still 'Unknown'.\n",
      "Category for emoji '✖' is still 'Unknown'.\n",
      "Category for emoji '☝' is still 'Unknown'.\n",
      "Category for emoji '▪' is still 'Unknown'.\n",
      "Category for emoji '☑' is still 'Unknown'.\n",
      "Category for emoji '▶' is still 'Unknown'.\n",
      "Category for emoji '☁' is still 'Unknown'.\n",
      "Category for emoji '⚠' is still 'Unknown'.\n",
      "Category for emoji '♦' is still 'Unknown'.\n",
      "Category for emoji '✂' is still 'Unknown'.\n",
      "Category for emoji '⬆' is still 'Unknown'.\n",
      "Category for emoji '✏' is still 'Unknown'.\n",
      "Category for emoji '♣' is still 'Unknown'.\n",
      "Category for emoji '♨' is still 'Unknown'.\n",
      "Category for emoji '☠' is still 'Unknown'.\n",
      "Category for emoji '◀' is still 'Unknown'.\n",
      "Category for emoji '☹' is still 'Unknown'.\n",
      "Category for emoji '♠' is still 'Unknown'.\n",
      "Category for emoji '♻' is still 'Unknown'.\n",
      "Category for emoji '⬇' is still 'Unknown'.\n",
      "Category for emoji '☎' is still 'Unknown'.\n",
      "Category for emoji '⬅' is still 'Unknown'.\n",
      "Category for emoji '✳' is still 'Unknown'.\n",
      "Category for emoji '✒' is still 'Unknown'.\n",
      "Category for emoji '✉' is still 'Unknown'.\n",
      "Category for emoji '↪' is still 'Unknown'.\n",
      "Category for emoji '☂' is still 'Unknown'.\n",
      "Category for emoji '🅰' is still 'Unknown'.\n",
      "Category for emoji '☮' is still 'Unknown'.\n",
      "Category for emoji '♂' is still 'Unknown'.\n",
      "Category for emoji 'Ⓜ' is still 'Unknown'.\n",
      "Category for emoji '🅾' is still 'Unknown'.\n",
      "Category for emoji '☄' is still 'Unknown'.\n",
      "Category for emoji '✡' is still 'Unknown'.\n",
      "Category for emoji '☪' is still 'Unknown'.\n",
      "Category for emoji '❇' is still 'Unknown'.\n",
      "Category for emoji '✴' is still 'Unknown'.\n",
      "Category for emoji '♀' is still 'Unknown'.\n",
      "Category for emoji '↩' is still 'Unknown'.\n",
      "Category for emoji '🅱' is still 'Unknown'.\n",
      "Category for emoji '☃' is still 'Unknown'.\n",
      "Category for emoji '↙' is still 'Unknown'.\n",
      "Category for emoji '✍' is still 'Unknown'.\n",
      "Category for emoji '▫' is still 'Unknown'.\n",
      "Category for emoji '☢' is still 'Unknown'.\n",
      "Category for emoji '✝' is still 'Unknown'.\n",
      "Category for emoji '❣' is still 'Unknown'.\n",
      "Category for emoji '↕' is still 'Unknown'.\n",
      "Category for emoji '🈂' is still 'Unknown'.\n",
      "Remaining 'Unknown' Emojis: 58\n",
      "List of Remaining 'Unknown' Emojis:\n",
      "❤\n",
      "♥\n",
      "☺\n",
      "✌\n",
      "☯\n",
      "☀\n",
      "❄\n",
      "✈\n",
      "✔\n",
      "➡\n",
      "✖\n",
      "☝\n",
      "▪\n",
      "☑\n",
      "▶\n",
      "☁\n",
      "⚠\n",
      "♦\n",
      "✂\n",
      "⬆\n",
      "✏\n",
      "♣\n",
      "♨\n",
      "☠\n",
      "◀\n",
      "☹\n",
      "♠\n",
      "♻\n",
      "⬇\n",
      "☎\n",
      "⬅\n",
      "✳\n",
      "✒\n",
      "✉\n",
      "↪\n",
      "☂\n",
      "🅰\n",
      "☮\n",
      "♂\n",
      "Ⓜ\n",
      "🅾\n",
      "☄\n",
      "✡\n",
      "☪\n",
      "❇\n",
      "✴\n",
      "♀\n",
      "↩\n",
      "🅱\n",
      "☃\n",
      "↙\n",
      "✍\n",
      "▫\n",
      "☢\n",
      "✝\n",
      "❣\n",
      "↕\n",
      "🈂\n"
     ]
    }
   ],
   "source": [
    "# Function to resolve 'Unknown' emojis using existing mappings\n",
    "def resolve_unknown_emojis(unknown_emojis, unified_to_emoji, emoji_to_category):\n",
    "    \"\"\"\n",
    "    Attempts to resolve 'Unknown' emojis by matching them with the unified_to_emoji mapping.\n",
    "    \"\"\"\n",
    "    for emoji_char in unknown_emojis:\n",
    "        unified_codes = [unified for unified, emo in unified_to_emoji.items() if emo == emoji_char]\n",
    "        \n",
    "        if unified_codes:\n",
    "            unified = unified_codes[0]\n",
    "            category = emoji_to_category.get(emoji_char, 'Unknown')\n",
    "            if category != 'Unknown':\n",
    "                emoji_to_category[emoji_char] = category\n",
    "                merged_df.loc[merged_df['emoji'] == emoji_char, 'category'] = category\n",
    "            else:\n",
    "                print(f\"Category for emoji '{emoji_char}' is still 'Unknown'.\")\n",
    "        else:\n",
    "            print(f\"No unified codepoints found for emoji '{emoji_char}'.\")\n",
    "\n",
    "resolve_unknown_emojis(unknown_emojis, unified_to_emoji, emoji_to_category)\n",
    "merged_df['category'] = merged_df['emoji'].apply(lambda x: emoji_to_category.get(x, 'Unknown'))\n",
    "remaining_unknowns = merged_df[merged_df['category'] == 'Unknown']['emoji'].unique()\n",
    "\n",
    "if len(remaining_unknowns) == 0:\n",
    "    print(\"All emojis have been successfully categorized.\")\n",
    "else:\n",
    "    print(f\"Remaining 'Unknown' Emojis: {len(remaining_unknowns)}\")\n",
    "    print(\"List of Remaining 'Unknown' Emojis:\")\n",
    "    for emoji_char in remaining_unknowns:\n",
    "        print(emoji_char)\n"
   ]
  },
  {
   "cell_type": "markdown",
   "metadata": {},
   "source": [
    "## Manual Mapping for Remaining 'Unknown' Emojis\n",
    "Some emojis may not be present in the emoji_data or require manual categorization. We'll create a manual mapping dictionary to handle these cases."
   ]
  },
  {
   "cell_type": "code",
   "execution_count": 89,
   "metadata": {},
   "outputs": [
    {
     "name": "stdout",
     "output_type": "stream",
     "text": [
      "All emojis have been successfully categorized.\n"
     ]
    }
   ],
   "source": [
    "# Manual mapping for remaining 'Unknown' emojis\n",
    "manual_mapping = {\n",
    "    '❤': 'Symbols',\n",
    "    '♥': 'Symbols',\n",
    "    '☺': 'Smileys & Emotion',\n",
    "    '✌': 'Gestures',\n",
    "    '☯': 'Symbols',\n",
    "    '☀': 'Symbols',\n",
    "    '❄': 'Symbols',\n",
    "    '✈': 'Travel & Places',\n",
    "    '✔': 'Symbols',\n",
    "    '➡': 'Symbols',\n",
    "    '✖': 'Symbols',\n",
    "    '☝': 'Gestures',\n",
    "    '▪': 'Symbols',\n",
    "    '☑': 'Symbols',\n",
    "    '▶': 'Symbols',\n",
    "    '☁': 'Symbols',\n",
    "    '⚠': 'Symbols',\n",
    "    '♦': 'Symbols',\n",
    "    '✂': 'Objects',\n",
    "    '⬆': 'Symbols',\n",
    "    '✏': 'Objects',\n",
    "    '♣': 'Symbols',\n",
    "    '♨': 'Symbols',\n",
    "    '☠': 'Symbols',\n",
    "    '◀': 'Symbols',\n",
    "    '☹': 'Smileys & Emotion',\n",
    "    '♠': 'Symbols',\n",
    "    '♻': 'Symbols',\n",
    "    '⬇': 'Symbols',\n",
    "    '☎': 'Objects',\n",
    "    '⬅': 'Symbols',\n",
    "    '✳': 'Symbols',\n",
    "    '✒': 'Objects',\n",
    "    '✉': 'Objects',\n",
    "    '↪': 'Symbols',\n",
    "    '☂': 'Symbols',\n",
    "    '🅰': 'Symbols',\n",
    "    '☮': 'Symbols',\n",
    "    '♂': 'Symbols',\n",
    "    'Ⓜ': 'Symbols',\n",
    "    '🅾': 'Symbols',\n",
    "    '☄': 'Symbols',\n",
    "    '✡': 'Symbols',\n",
    "    '☪': 'Symbols',\n",
    "    '❇': 'Symbols',\n",
    "    '✴': 'Symbols',\n",
    "    '♀': 'Symbols',\n",
    "    '↩': 'Symbols',\n",
    "    '🅱': 'Symbols',\n",
    "    '☃': 'Symbols',\n",
    "    '↙': 'Symbols',\n",
    "    '✍': 'Gestures',\n",
    "    '▫': 'Symbols',\n",
    "    '☢': 'Symbols',\n",
    "    '✝': 'Symbols',\n",
    "    '❣': 'Symbols',\n",
    "    '↕': 'Symbols',\n",
    "    '🈂': 'Symbols'\n",
    "}\n",
    "\n",
    "emoji_to_category.update(manual_mapping)\n",
    "merged_df['category'] = merged_df['emoji'].apply(lambda x: emoji_to_category.get(x, 'Unknown'))\n",
    "remaining_unknowns = merged_df[merged_df['category'] == 'Unknown']['emoji'].unique()\n",
    "\n",
    "if len(remaining_unknowns) == 0:\n",
    "    print(\"All emojis have been successfully categorized.\")\n",
    "else:\n",
    "    print(f\"Remaining 'Unknown' Emojis: {len(remaining_unknowns)}\")\n",
    "    print(\"List of Remaining 'Unknown' Emojis:\")\n",
    "    for emoji_char in remaining_unknowns:\n",
    "        print(emoji_char)\n"
   ]
  },
  {
   "cell_type": "markdown",
   "metadata": {},
   "source": [
    "## Identify the Inconsistencies\n",
    "\n",
    "After creating the 'category' column in merged_df, we need to check for inconsistencies in category labels."
   ]
  },
  {
   "cell_type": "code",
   "execution_count": 90,
   "metadata": {},
   "outputs": [
    {
     "name": "stdout",
     "output_type": "stream",
     "text": [
      "Unique categories before cleaning:\n",
      "['Smileys & emotion' 'Symbols' 'People & body' 'Smileys & Emotion'\n",
      " 'Gestures' 'Activities' 'Animals & nature' 'Objects' 'Travel & places'\n",
      " 'Food & drink' 'Travel & Places' 'Flags']\n"
     ]
    }
   ],
   "source": [
    "# List unique categories before cleaning\n",
    "print(\"Unique categories before cleaning:\")\n",
    "print(merged_df['category'].unique())"
   ]
  },
  {
   "cell_type": "markdown",
   "metadata": {},
   "source": [
    "## Standardize Category Labels\n",
    "\n",
    "We'll standardize the category labels by:\n",
    "\n",
    " - Converting all labels to title case to handle capitalization inconsistencies.\n",
    " - Replacing variations of 'and'/'&' to a standard '&' symbol.\n",
    " - Removing leading/trailing whitespace."
   ]
  },
  {
   "cell_type": "code",
   "execution_count": 91,
   "metadata": {},
   "outputs": [],
   "source": [
    "def clean_category_label(label):\n",
    "    label = label.strip()  # Remove leading/trailing whitespace\n",
    "    label = label.title()  # Convert to title case\n",
    "    label = label.replace(' And ', ' & ')  # Replace ' And ' with ' & '\n",
    "    label = label.replace(' and ', ' & ')  # Handle lowercase 'and'\n",
    "    label = label.replace(' & ', ' & ')  # Ensure consistent spacing\n",
    "    return label\n",
    "\n",
    "# Apply the function to 'category' column\n",
    "merged_df['category'] = merged_df['category'].apply(clean_category_label)"
   ]
  },
  {
   "cell_type": "markdown",
   "metadata": {},
   "source": [
    "## Verify the Standardization\n",
    "\n",
    "After cleaning, we should verify that the categories are standardized."
   ]
  },
  {
   "cell_type": "code",
   "execution_count": 92,
   "metadata": {},
   "outputs": [
    {
     "name": "stdout",
     "output_type": "stream",
     "text": [
      "Unique categories after cleaning:\n",
      "['Smileys & Emotion' 'Symbols' 'People & Body' 'Gestures' 'Activities'\n",
      " 'Animals & Nature' 'Objects' 'Travel & Places' 'Food & Drink' 'Flags']\n"
     ]
    }
   ],
   "source": [
    "# List unique categories after cleaning\n",
    "print(\"Unique categories after cleaning:\")\n",
    "print(merged_df['category'].unique())"
   ]
  },
  {
   "cell_type": "markdown",
   "metadata": {},
   "source": [
    "## Verification and Final Checks\n",
    "Finally, we'll verify that all emojis in the dataset are correctly categorized and perform some basic analysis.\n",
    "\n",
    "### Verify Total Mappings"
   ]
  },
  {
   "cell_type": "code",
   "execution_count": 93,
   "metadata": {},
   "outputs": [
    {
     "name": "stdout",
     "output_type": "stream",
     "text": [
      "Total emojis in unified_to_category: 1903\n",
      "Total emojis in emoji_to_category: 1961\n"
     ]
    }
   ],
   "source": [
    "# Verify the total number of emojis in unified_to_category and emoji_to_category\n",
    "print(f\"Total emojis in unified_to_category: {len(unified_to_category)}\")\n",
    "print(f\"Total emojis in emoji_to_category: {len(emoji_to_category)}\")"
   ]
  },
  {
   "cell_type": "code",
   "execution_count": 94,
   "metadata": {},
   "outputs": [
    {
     "name": "stdout",
     "output_type": "stream",
     "text": [
      "Sample Emoji to Category Mapping:\n"
     ]
    }
   ],
   "source": [
    "# Display a sample of the emoji_category_mapping\n",
    "sample_category_mapping = dict(list(emoji_category_mapping.items())[:10])\n",
    "print(\"Sample Emoji to Category Mapping:\")\n",
    "for emoji_char, cat in sample_category_mapping.items():\n",
    "    print(f\"{emoji_char}: {cat}\")"
   ]
  },
  {
   "cell_type": "code",
   "execution_count": 95,
   "metadata": {},
   "outputs": [
    {
     "name": "stdout",
     "output_type": "stream",
     "text": [
      "First 10 entries with 'emoji' and 'category':\n",
      "  emoji           category\n",
      "0     😂  Smileys & Emotion\n",
      "1     ❤            Symbols\n",
      "2     ♥            Symbols\n",
      "3     😍  Smileys & Emotion\n",
      "4     😭  Smileys & Emotion\n",
      "5     😘  Smileys & Emotion\n",
      "6     😊  Smileys & Emotion\n",
      "7     👌      People & Body\n",
      "8     💕  Smileys & Emotion\n",
      "9     👏      People & Body\n"
     ]
    }
   ],
   "source": [
    "# Display a sample of the merged_df DataFrame\n",
    "print(\"First 10 entries with 'emoji' and 'category':\")\n",
    "print(merged_df[['emoji', 'category']].head(10))"
   ]
  },
  {
   "cell_type": "markdown",
   "metadata": {},
   "source": [
    "## Analyze Emoji Categories\n",
    "We'll analyze the distribution of emojis across different categories."
   ]
  },
  {
   "cell_type": "code",
   "execution_count": 96,
   "metadata": {},
   "outputs": [
    {
     "name": "stdout",
     "output_type": "stream",
     "text": [
      "Unique Emoji Categories in merged_df:\n",
      "['Smileys & Emotion' 'Symbols' 'People & Body' 'Gestures' 'Activities'\n",
      " 'Animals & Nature' 'Objects' 'Travel & Places' 'Food & Drink' 'Flags']\n"
     ]
    }
   ],
   "source": [
    "# Check the number of unique categories in merged_df\n",
    "unique_categories = merged_df['category'].unique()\n",
    "print(\"Unique Emoji Categories in merged_df:\")\n",
    "print(unique_categories)"
   ]
  },
  {
   "cell_type": "code",
   "execution_count": 97,
   "metadata": {},
   "outputs": [
    {
     "name": "stdout",
     "output_type": "stream",
     "text": [
      "\n",
      "Emoji Counts per Category:\n",
      "category\n",
      "Symbols              130\n",
      "Objects              126\n",
      "Travel & Places      118\n",
      "Smileys & Emotion    102\n",
      "Animals & Nature      82\n",
      "People & Body         69\n",
      "Food & Drink          61\n",
      "Activities            40\n",
      "Gestures               3\n",
      "Flags                  3\n",
      "Name: count, dtype: int64\n"
     ]
    }
   ],
   "source": [
    "# Count of emojis per category\n",
    "category_counts = merged_df['category'].value_counts()\n",
    "print(\"\\nEmoji Counts per Category:\")\n",
    "print(category_counts)"
   ]
  },
  {
   "cell_type": "markdown",
   "metadata": {},
   "source": [
    "## Final Verification\n",
    "\n",
    "Ensure that there are no remaining 'Unknown' emojis."
   ]
  },
  {
   "cell_type": "code",
   "execution_count": 98,
   "metadata": {},
   "outputs": [
    {
     "name": "stdout",
     "output_type": "stream",
     "text": [
      "All emojis have been successfully categorized.\n"
     ]
    }
   ],
   "source": [
    "# Final verification\n",
    "remaining_unknowns = merged_df[merged_df['category'] == 'Unknown']['emoji'].unique()\n",
    "\n",
    "if len(remaining_unknowns) == 0:\n",
    "    print(\"All emojis have been successfully categorized.\")\n",
    "else:\n",
    "    print(f\"Remaining 'Unknown' Emojis: {len(remaining_unknowns)}\")\n",
    "    print(\"List of Remaining 'Unknown' Emojis:\")\n",
    "    for emoji_char in remaining_unknowns:\n",
    "        print(emoji_char)"
   ]
  },
  {
   "cell_type": "markdown",
   "metadata": {},
   "source": [
    "## Finalizing and Saving merged_df\n",
    "\n",
    "Now all all cleaning, mapping, and categorization steps in data_cleaning.ipynb have been carried out, add the following code to save merged_df:"
   ]
  },
  {
   "cell_type": "code",
   "execution_count": 99,
   "metadata": {},
   "outputs": [
    {
     "name": "stdout",
     "output_type": "stream",
     "text": [
      "Cleaned merged data saved to /workspace/EmojiInsight/data/processed/emoji_data_merged.csv\n"
     ]
    }
   ],
   "source": [
    "# %%\n",
    "import os\n",
    "import pandas as pd\n",
    "\n",
    "# Define the directory to save processed data\n",
    "processed_dir = '/workspace/EmojiInsight/data/processed/'\n",
    "os.makedirs(processed_dir, exist_ok=True)\n",
    "merged_data_path = os.path.join(processed_dir, 'emoji_data_merged.csv')\n",
    "\n",
    "# Save merged_df to CSV\n",
    "merged_df.to_csv(merged_data_path, index=False)\n",
    "print(f\"Cleaned merged data saved to {merged_data_path}\")\n"
   ]
  },
  {
   "cell_type": "markdown",
   "metadata": {},
   "source": [
    "## Verifying the Saved File\n",
    "\n",
    "To ensure that the DataFrame is saved correctly, we add the following verification code right after saving:"
   ]
  },
  {
   "cell_type": "code",
   "execution_count": 100,
   "metadata": {},
   "outputs": [
    {
     "name": "stdout",
     "output_type": "stream",
     "text": [
      "File /workspace/EmojiInsight/data/processed/emoji_data_merged.csv exists.\n"
     ]
    }
   ],
   "source": [
    "if os.path.isfile(merged_data_path):\n",
    "    print(f\"File {merged_data_path} exists.\")"
   ]
  },
  {
   "cell_type": "markdown",
   "metadata": {},
   "source": [
    "### Next Steps\n",
    "\n",
    "With the sentiment data loaded, renamed, and merged with the Unicode emoji data, we're now ready to proceed with:\n",
    "\n",
    "- **Exploratory Data Analysis (EDA):** Uncover patterns and insights in the data.\n",
    "- **Feature Engineering:** Create new features that may enhance our predictive models.\n",
    "- **Model Development:** Begin building machine learning models to meet our project objectives."
   ]
  }
 ],
 "metadata": {
  "kernelspec": {
   "display_name": "venv",
   "language": "python",
   "name": "python3"
  },
  "language_info": {
   "codemirror_mode": {
    "name": "ipython",
    "version": 3
   },
   "file_extension": ".py",
   "mimetype": "text/x-python",
   "name": "python",
   "nbconvert_exporter": "python",
   "pygments_lexer": "ipython3",
   "version": "3.12.6"
  }
 },
 "nbformat": 4,
 "nbformat_minor": 2
}
